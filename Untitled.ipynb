{
 "cells": [
  {
   "cell_type": "code",
   "execution_count": 1,
   "metadata": {},
   "outputs": [],
   "source": [
    "import cv2\n",
    "from skimage.io import imshow \n",
    "import numpy as np\n",
    "import math"
   ]
  },
  {
   "cell_type": "code",
   "execution_count": 2,
   "metadata": {},
   "outputs": [],
   "source": [
    "from matplotlib import pyplot as plt\n",
    "import pandas as pd\n",
    "from mpl_toolkits.mplot3d import Axes3D\n",
    "from sklearn.cluster import KMeans\n",
    "from skimage.io import imread , imshow\n",
    "from skimage import color\n",
    "from skimage import measure\n",
    "\n",
    "class DominantColors:\n",
    "\n",
    "    CLUSTERS = None\n",
    "    IMAGE = None\n",
    "    COLORS = None\n",
    "    LABELS = None\n",
    "    cvtIMG = None\n",
    "    ORIG = None\n",
    "    \n",
    "    def __init__(self, image, clusters):\n",
    "        self.CLUSTERS = clusters\n",
    "        self.IMAGE = image\n",
    "        \n",
    "    def dominantColors(self):\n",
    "    \n",
    "        #read image\n",
    "        #img = cv2.imread(self.IMAGE)\n",
    "        img = self.IMAGE\n",
    "        self.ORIG = img.copy()\n",
    "        \n",
    "        #convert to rgb from bgr\n",
    "        #img = color.rgb2hsv(img)\n",
    "        #img = cv2.cvtColor(img, cv2.COLOR_BGR2HSV) \n",
    "        \n",
    "        self.cvtIMG = img\n",
    "        #reshaping to a list of pixels\n",
    "        img = img.reshape((img.shape[0] * img.shape[1], 3))\n",
    "        \n",
    "        #save image after operations\n",
    "        self.IMAGE = img\n",
    "        \n",
    "        #using k-means to cluster pixels\n",
    "        kmeans = KMeans(n_clusters = self.CLUSTERS, init = 'k-means++', random_state = 0)\n",
    "        kmeans.fit(img)\n",
    "        \n",
    "        #the cluster centers are our dominant colors.\n",
    "        self.COLORS = kmeans.cluster_centers_\n",
    "        \n",
    "        #save labels\n",
    "        self.LABELS = kmeans.labels_\n",
    "        \n",
    "        self.PARAM = kmeans.get_params\n",
    "        \n",
    "        #returning after converting to integer from float\n",
    "        return self.COLORS\n",
    "    \n",
    "    def show(self):\n",
    "        cv2.imshow('img',self.ORIG)\n",
    "        "
   ]
  },
  {
   "cell_type": "code",
   "execution_count": 3,
   "metadata": {},
   "outputs": [],
   "source": [
    "def rgb_to_hsi(R, G, B):\n",
    "    def get_H():\n",
    "        if B < G:\n",
    "            return get_c()\n",
    "        else:\n",
    "            return 360 - get_c()\n",
    " \n",
    "    def get_S():\n",
    "        if R+G+B == 0:\n",
    "            return \"undef\"\n",
    "        return 1-(3/(R+G+B))*min(R, G, B)\n",
    " \n",
    "    def get_I():\n",
    "        return (R+G+B)/3\n",
    " \n",
    "    def get_c():\n",
    "        print((2*R-G-B)/(2*math.sqrt((R-G)**2+(R-B)*(G-B))))\n",
    "        return math.acos(round((2*R-G-B)/(2*math.sqrt((R-G)**2+(R-B)*(G-B))),4))\n",
    " \n",
    "    return get_H(), get_S(), get_I()"
   ]
  },
  {
   "cell_type": "code",
   "execution_count": 4,
   "metadata": {},
   "outputs": [
    {
     "ename": "error",
     "evalue": "OpenCV(3.4.2) c:\\projects\\opencv-python\\opencv\\modules\\imgproc\\src\\color.hpp:253: error: (-215:Assertion failed) VScn::contains(scn) && VDcn::contains(dcn) && VDepth::contains(depth) in function 'cv::CvtHelper<struct cv::Set<3,4,-1>,struct cv::Set<3,4,-1>,struct cv::Set<0,2,5>,2>::CvtHelper'\n",
     "output_type": "error",
     "traceback": [
      "\u001b[1;31m---------------------------------------------------------------------------\u001b[0m",
      "\u001b[1;31merror\u001b[0m                                     Traceback (most recent call last)",
      "\u001b[1;32m<ipython-input-4-61801e7aa3fd>\u001b[0m in \u001b[0;36m<module>\u001b[1;34m()\u001b[0m\n\u001b[0;32m      1\u001b[0m \u001b[0mimage\u001b[0m \u001b[1;33m=\u001b[0m \u001b[1;34m'segmentation_WBC-master/Dataset 2/test.tif'\u001b[0m\u001b[1;33m\u001b[0m\u001b[0m\n\u001b[0;32m      2\u001b[0m \u001b[0mimg\u001b[0m \u001b[1;33m=\u001b[0m \u001b[0mcv2\u001b[0m\u001b[1;33m.\u001b[0m\u001b[0mimread\u001b[0m\u001b[1;33m(\u001b[0m\u001b[0mimage\u001b[0m\u001b[1;33m)\u001b[0m\u001b[1;33m\u001b[0m\u001b[0m\n\u001b[1;32m----> 3\u001b[1;33m \u001b[0mimg\u001b[0m \u001b[1;33m=\u001b[0m \u001b[0mcv2\u001b[0m\u001b[1;33m.\u001b[0m\u001b[0mcvtColor\u001b[0m\u001b[1;33m(\u001b[0m\u001b[0mimg\u001b[0m\u001b[1;33m,\u001b[0m \u001b[0mcv2\u001b[0m\u001b[1;33m.\u001b[0m\u001b[0mCOLOR_BGR2RGB\u001b[0m\u001b[1;33m)\u001b[0m\u001b[1;33m\u001b[0m\u001b[0m\n\u001b[0m\u001b[0;32m      4\u001b[0m \u001b[0mimg\u001b[0m \u001b[1;33m=\u001b[0m \u001b[0mnp\u001b[0m\u001b[1;33m.\u001b[0m\u001b[0mround\u001b[0m\u001b[1;33m(\u001b[0m\u001b[0mimg\u001b[0m\u001b[1;33m/\u001b[0m\u001b[1;36m255\u001b[0m\u001b[1;33m,\u001b[0m\u001b[1;36m4\u001b[0m\u001b[1;33m)\u001b[0m\u001b[1;33m\u001b[0m\u001b[0m\n\u001b[0;32m      5\u001b[0m \u001b[0mimg\u001b[0m\u001b[1;33m\u001b[0m\u001b[0m\n",
      "\u001b[1;31merror\u001b[0m: OpenCV(3.4.2) c:\\projects\\opencv-python\\opencv\\modules\\imgproc\\src\\color.hpp:253: error: (-215:Assertion failed) VScn::contains(scn) && VDcn::contains(dcn) && VDepth::contains(depth) in function 'cv::CvtHelper<struct cv::Set<3,4,-1>,struct cv::Set<3,4,-1>,struct cv::Set<0,2,5>,2>::CvtHelper'\n"
     ]
    }
   ],
   "source": [
    "image = 'segmentation_WBC-master/Dataset 2/test.tif'\n",
    "img = cv2.imread(image)\n",
    "img = cv2.cvtColor(img, cv2.COLOR_BGR2RGB)\n",
    "img = np.round(img/255,4)\n",
    "img"
   ]
  },
  {
   "cell_type": "code",
   "execution_count": null,
   "metadata": {
    "scrolled": true
   },
   "outputs": [],
   "source": [
    "# new_img = img.copy()\n",
    "# new_img= np.float(new_img)\n",
    "# new_img"
   ]
  },
  {
   "cell_type": "code",
   "execution_count": null,
   "metadata": {},
   "outputs": [],
   "source": [
    "\n",
    "newI = []\n",
    "newS = []\n",
    "newH = []\n",
    "for k in range(0,img.shape[0]):\n",
    "    for j in range(0,img.shape[1]):\n",
    "        R = np.round(img[k][j][0],4)\n",
    "        G = np.round(img[k][j][1],4)\n",
    "        B = np.round(img[k][j][2],4)\n",
    "        h,s,i = rgb_to_hsi(R,G,B)\n",
    "        newI.append(i)\n",
    "        newS.append(s)\n",
    "        newH.append(h)\n",
    "newI = np.reshape(newI,(img.shape[0],img.shape[1]))\n",
    "newS = np.reshape(newS,(img.shape[0],img.shape[1]))\n",
    "newH = np.reshape(newH,(img.shape[0],img.shape[1]))"
   ]
  },
  {
   "cell_type": "code",
   "execution_count": null,
   "metadata": {},
   "outputs": [],
   "source": [
    "imshow(img)"
   ]
  },
  {
   "cell_type": "code",
   "execution_count": null,
   "metadata": {},
   "outputs": [],
   "source": [
    "from PIL import Image\n",
    "w,h = img.shape[0],img.shape[1]\n",
    "data = np.zeros((h,w,3))\n",
    "data[:,:,0] = newH\n",
    "data[:,:,1] = newS\n",
    "data[:,:,2] = newI\n",
    "new_img = Image.fromarray(data,'RGB')\n",
    "data"
   ]
  },
  {
   "cell_type": "code",
   "execution_count": null,
   "metadata": {},
   "outputs": [],
   "source": [
    "dc = DominantColors(data, 8)\n",
    "colors = dc.dominantColors()\n",
    "print(colors)"
   ]
  },
  {
   "cell_type": "code",
   "execution_count": null,
   "metadata": {},
   "outputs": [],
   "source": [
    "dc.LABELS\n",
    "imshow(dc.cvtIMG)"
   ]
  },
  {
   "cell_type": "code",
   "execution_count": null,
   "metadata": {},
   "outputs": [],
   "source": [
    "unique, counts = np.unique(dc.LABELS, return_counts=True)\n",
    "label_intensity = dict(zip(unique, counts))\n",
    "label_intensity"
   ]
  },
  {
   "cell_type": "code",
   "execution_count": null,
   "metadata": {},
   "outputs": [],
   "source": [
    "labels = np.reshape(dc.LABELS,(img.shape[0],img.shape[1]))\n",
    "labels.shape"
   ]
  },
  {
   "cell_type": "code",
   "execution_count": null,
   "metadata": {},
   "outputs": [],
   "source": [
    "rowMax = img.shape[0]\n",
    "colMax = img.shape[1]\n",
    "bgSub = data.copy()\n",
    "def findRegion(row, col, mark, label):\n",
    "#     print(\"pos : \",row,col)\n",
    "    if col < 0 or col >= colMax or row < 0 or row >= rowMax:\n",
    "        return None\n",
    "\n",
    "    if labels[row][col] != label:\n",
    "        return None\n",
    "    \n",
    "    bgSub[row][col][0]=0\n",
    "    bgSub[row][col][1]=0\n",
    "    bgSub[row][col][2]=0\n",
    "    \n",
    "    if mark[row][col] == 1:\n",
    "        return None\n",
    "    mark[row][col] = 1\n",
    "    \n",
    "\n",
    "    findRegion(row + 1, col, mark,label)\n",
    "    findRegion(row - 1, col, mark,label)\n",
    "    findRegion(row, col + 1, mark,label)\n",
    "    findRegion(row, col - 1, mark,label)\n",
    "\n",
    "mark = np.zeros((img.shape[0],img.shape[1]))\n",
    "label_list = []\n",
    "import sys\n",
    "# sys.setrecursionlimit(5000)\n",
    "# findRegion(299 ,271,mark,0)\n",
    "for j in range(0,img.shape[0]):\n",
    "    if mark[0][j] != 1:\n",
    "        findRegion(0,j,mark,labels[0][j])\n",
    "    if labels[0][j] not in label_list:\n",
    "        label_list.append(labels[0][j])\n",
    "for j in range(0,img.shape[0]):\n",
    "    if mark[img.shape[0]-1][j] != 1:\n",
    "        print(img.shape[0]-1,j,labels[img.shape[0]-1][j])\n",
    "        findRegion(img.shape[0]-1,j,mark,labels[img.shape[0]-1][j])\n",
    "    if labels[img.shape[0]-1][j] not in label_list:\n",
    "        label_list.append(labels[img.shape[0]-1][j])\n",
    "for j in range(0,img.shape[1]):\n",
    "    if mark[j][0] != 1:    \n",
    "        findRegion(j,0,mark,labels[j][0])\n",
    "    if labels[j][0] not in label_list:\n",
    "        label_list.append(labels[j][0])\n",
    "for j in range(0,img.shape[1]):        \n",
    "    if mark[j][img.shape[1]-1] != 1:    \n",
    "        findRegion(j,img.shape[1]-1,mark,labels[j][img.shape[1]-1])\n",
    "    if labels[j][img.shape[1]-1] not in label_list:\n",
    "        label_list.append(labels[j][img.shape[1]-1])\n"
   ]
  },
  {
   "cell_type": "code",
   "execution_count": null,
   "metadata": {},
   "outputs": [],
   "source": [
    "imshow(bgSub)"
   ]
  },
  {
   "cell_type": "code",
   "execution_count": null,
   "metadata": {},
   "outputs": [],
   "source": [
    "print(label_list)\n",
    "Bmax = -1111\n",
    "Bkey = 0\n",
    "for key,value in label_intensity.items():\n",
    "    if key in label_list and value > Bmax :\n",
    "        Bmax = value\n",
    "        Bkey = key"
   ]
  },
  {
   "cell_type": "code",
   "execution_count": null,
   "metadata": {},
   "outputs": [],
   "source": [
    "for i in range(0,img.shape[0]):\n",
    "    for j in range(0,img.shape[1]):\n",
    "        if labels[i][j] == Bkey:\n",
    "            bgSub[i,j,:] = 0\n",
    "bgSub[80,60,:]     "
   ]
  },
  {
   "cell_type": "code",
   "execution_count": null,
   "metadata": {},
   "outputs": [],
   "source": [
    "imshow(bgSub)"
   ]
  },
  {
   "cell_type": "markdown",
   "metadata": {},
   "source": []
  },
  {
   "cell_type": "code",
   "execution_count": null,
   "metadata": {},
   "outputs": [],
   "source": [
    "bgList = []\n",
    "tmp = data.copy()\n",
    "for i in range(0,img.shape[0]):\n",
    "    for j in range(0,img.shape[1]):\n",
    "        if labels[i][j] == Bkey:\n",
    "            bgList.append(list(tmp[i,j,:]))"
   ]
  },
  {
   "cell_type": "code",
   "execution_count": null,
   "metadata": {},
   "outputs": [],
   "source": [
    "np.array(bgList)"
   ]
  },
  {
   "cell_type": "code",
   "execution_count": null,
   "metadata": {},
   "outputs": [],
   "source": [
    "Bavg = np.average(bgList,axis=0)"
   ]
  },
  {
   "cell_type": "code",
   "execution_count": null,
   "metadata": {},
   "outputs": [],
   "source": [
    "Bavg"
   ]
  },
  {
   "cell_type": "code",
   "execution_count": null,
   "metadata": {
    "scrolled": false
   },
   "outputs": [],
   "source": [
    "for i in range(0,img.shape[0]):\n",
    "    for j in range(0,img.shape[1]):\n",
    "        if labels[i][j] not in label_list:\n",
    "            x = np.array((bgSub[i][j][0],bgSub[i][j][1],bgSub[i][j][2]))\n",
    "            print(x)\n",
    "            dist = np.linalg.norm(Bavg-x)\n",
    "            if dist < 10:\n",
    "                bgSub[i,j,:] = 0"
   ]
  },
  {
   "cell_type": "code",
   "execution_count": null,
   "metadata": {},
   "outputs": [],
   "source": [
    "imshow(bgSub)"
   ]
  },
  {
   "cell_type": "code",
   "execution_count": null,
   "metadata": {},
   "outputs": [],
   "source": []
  },
  {
   "cell_type": "code",
   "execution_count": null,
   "metadata": {},
   "outputs": [],
   "source": []
  },
  {
   "cell_type": "code",
   "execution_count": null,
   "metadata": {},
   "outputs": [],
   "source": []
  }
 ],
 "metadata": {
  "kernelspec": {
   "display_name": "Python 3",
   "language": "python",
   "name": "python3"
  },
  "language_info": {
   "codemirror_mode": {
    "name": "ipython",
    "version": 3
   },
   "file_extension": ".py",
   "mimetype": "text/x-python",
   "name": "python",
   "nbconvert_exporter": "python",
   "pygments_lexer": "ipython3",
   "version": "3.6.5"
  }
 },
 "nbformat": 4,
 "nbformat_minor": 2
}
