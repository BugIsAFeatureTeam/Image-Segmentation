{
 "cells": [
  {
   "cell_type": "code",
   "execution_count": 1,
   "metadata": {},
   "outputs": [],
   "source": [
    "import cv2\n",
    "import numpy as np\n",
    "from matplotlib import pyplot as plt\n",
    "import pandas as pd\n",
    "from mpl_toolkits.mplot3d import Axes3D\n",
    "from sklearn.cluster import KMeans\n",
    "from skimage.io import imread , imshow\n",
    "from skimage import color\n",
    "from skimage import measure\n",
    "import math\n",
    "\n",
    "class DominantColors:\n",
    "\n",
    "    CLUSTERS = None\n",
    "    IMAGE = None\n",
    "    COLORS = None\n",
    "    LABELS = None\n",
    "    ORIG = None\n",
    "    WCSS = None\n",
    "    pLABEL = None\n",
    "    KMEAN = None\n",
    "    \n",
    "    def __init__(self, image):\n",
    "        self.IMAGE = image\n",
    "        \n",
    "    def dominantColors(self):\n",
    "        \n",
    "        #using k-means to cluster pixels\n",
    "        kmeans = KMeans(n_clusters = 5, init = 'k-means++', random_state = 0)\n",
    "        kmeans.fit(self.IMAGE)\n",
    "        \n",
    "        self.KMEAN = kmeans\n",
    "        #the cluster centers are our dominant colors.\n",
    "        self.COLORS = kmeans.cluster_centers_\n",
    "        \n",
    "        #save labels\n",
    "        self.LABELS = kmeans.labels_\n",
    "        \n",
    "        #find label of purple color\n",
    "        #self.pLABEL = kmeans.predict([[128,0,128]])\n",
    "        self.pLABEL = kmeans.predict([[150,255,127]])\n",
    "        \n",
    "        #returning after converting to integer from float\n",
    "        return self.COLORS\n",
    "    \n",
    "    def show(self):\n",
    "        imshow(self.ORIG)\n",
    "        \n",
    "    def elbow(self):\n",
    "        #read image\n",
    "        img = cv2.imread(self.IMAGE)\n",
    "        \n",
    "        #convert to rgb from bgr\n",
    "        img = cv2.cvtColor(img, cv2.COLOR_BGR2RGB) \n",
    "        img = cv2.cvtColor(img, cv2.COLOR_RGB2HSV) \n",
    "        \n",
    "        for i in range(img.shape[0]):\n",
    "            for j in range(0,2):\n",
    "                img[i,j,:] = 0\n",
    "                img[j,i,:] = 0\n",
    "                last_idx = img.shape[1]-1-j\n",
    "                img[i,last_idx,:] = 0\n",
    "                img[last_idx,i,:] = 0\n",
    "\n",
    "        self.ORIG = img.copy()\n",
    "           \n",
    "        #reshaping to a list of pixels\n",
    "        img = img.reshape((img.shape[0] * img.shape[1], 3))\n",
    "        \n",
    "        #save image after operations\n",
    "        self.IMAGE = img\n",
    "        \n",
    "        #Elbow method\n",
    "        wcss = []\n",
    "        for i in range(1, 10):\n",
    "            kmeans = KMeans(n_clusters = i, init = 'k-means++', random_state = 42)\n",
    "            kmeans.fit(self.IMAGE)\n",
    "            wcss.append(kmeans.inertia_)\n",
    "        self.WCSS = wcss\n",
    "        plt.plot(range(1, 10), wcss)\n",
    "        plt.title('The Elbow Method')\n",
    "        plt.xlabel('Number of clusters')\n",
    "        plt.ylabel('WCSS')\n",
    "        plt.show()\n",
    "        \n",
    "    def findK(self):\n",
    "        m = (self.WCSS[0]-self.WCSS[8])/(1-9)\n",
    "        c = self.WCSS[0]-m*1\n",
    "        A=m\n",
    "        B=-1\n",
    "        maxD = 0\n",
    "        K = 0\n",
    "        for x1,y1 in enumerate(self.WCSS,1):\n",
    "            d = abs(A*x1+B*y1+c)/math.sqrt(A**2+B**2)\n",
    "            if d > maxD:\n",
    "                maxD = d\n",
    "                self.CLUSTERS=x1+1\n",
    "        print('found :'+str(self.CLUSTERS)+' group')\n",
    "        return self.CLUSTERS"
   ]
  },
  {
   "cell_type": "code",
   "execution_count": 2,
   "metadata": {
    "scrolled": true
   },
   "outputs": [
    {
     "data": {
      "image/png": "[encoded data removed]",
      "text/plain": [
       "<Figure size 432x288 with 1 Axes>"
      ]
     },
     "metadata": {},
     "output_type": "display_data"
    },
    {
     "name": "stdout",
     "output_type": "stream",
     "text": [
      "found :3 group\n"
     ]
    }
   ],
   "source": [
    "img = 'segmentation_WBC-master/compare/9.png'\n",
    "orig = 'segmentation_WBC-master/testset/9.png'\n",
    "dc = DominantColors(img) \n",
    "dc.elbow()\n",
    "dc.findK()\n",
    "dc.IMAGE\n",
    "dc.COLORS"
   ]
  },
  {
   "cell_type": "code",
   "execution_count": 3,
   "metadata": {},
   "outputs": [
    {
     "name": "stderr",
     "output_type": "stream",
     "text": [
      "C:\\Users\\Admin\\Anaconda3\\lib\\site-packages\\skimage\\io\\_plugins\\matplotlib_plugin.py:51: FutureWarning: Conversion of the second argument of issubdtype from `float` to `np.floating` is deprecated. In future, it will be treated as `np.float64 == np.dtype(float).type`.\n",
      "  out_of_range_float = (np.issubdtype(image.dtype, np.float) and\n",
      "C:\\Users\\Admin\\Anaconda3\\lib\\site-packages\\matplotlib\\axes\\_base.py:1400: MatplotlibDeprecationWarning: The 'box-forced' keyword argument is deprecated since 2.2.\n",
      "  \" since 2.2.\", cbook.mplDeprecation)\n"
     ]
    },
    {
     "data": {
      "text/plain": [
       "array([[ 1.35014967e+02,  2.25126286e+01,  1.94667914e+02],\n",
       "       [-1.56319402e-12, -1.92557081e-12, -4.52615723e-12],\n",
       "       [ 1.30170775e+02,  5.92940141e+01,  1.99778169e+02],\n",
       "       [ 7.01719577e+01,  1.07936508e+01,  1.99515873e+02],\n",
       "       [ 1.24836601e+02,  1.06902894e+02,  2.08366013e+02]])"
      ]
     },
     "execution_count": 3,
     "metadata": {},
     "output_type": "execute_result"
    },
    {
     "data": {
      "image/png": "[encoded data removed]",
      "text/plain": [
       "<Figure size 432x288 with 1 Axes>"
      ]
     },
     "metadata": {},
     "output_type": "display_data"
    }
   ],
   "source": [
    "dc.dominantColors()\n",
    "dc.show()\n",
    "dc.COLORS"
   ]
  },
  {
   "cell_type": "code",
   "execution_count": 4,
   "metadata": {},
   "outputs": [
    {
     "data": {
      "text/plain": [
       "array([[ 1.35014967e+02,  2.25126286e+01,  1.94667914e+02],\n",
       "       [-1.56319402e-12, -1.92557081e-12, -4.52615723e-12],\n",
       "       [ 1.30170775e+02,  5.92940141e+01,  1.99778169e+02],\n",
       "       [ 7.01719577e+01,  1.07936508e+01,  1.99515873e+02],\n",
       "       [ 1.24836601e+02,  1.06902894e+02,  2.08366013e+02]])"
      ]
     },
     "execution_count": 4,
     "metadata": {},
     "output_type": "execute_result"
    }
   ],
   "source": [
    "dc.COLORS"
   ]
  },
  {
   "cell_type": "code",
   "execution_count": 5,
   "metadata": {},
   "outputs": [],
   "source": [
    "dc.LABELS\n",
    "neucleus = np.reshape(dc.LABELS, (-1, dc.ORIG.shape[1]))"
   ]
  },
  {
   "cell_type": "code",
   "execution_count": 6,
   "metadata": {},
   "outputs": [],
   "source": [
    "cytoplasm = neucleus.copy()\n",
    "cell = neucleus.copy()"
   ]
  },
  {
   "cell_type": "code",
   "execution_count": 7,
   "metadata": {
    "scrolled": true
   },
   "outputs": [
    {
     "name": "stderr",
     "output_type": "stream",
     "text": [
      "C:\\Users\\Admin\\Anaconda3\\lib\\site-packages\\skimage\\io\\_plugins\\matplotlib_plugin.py:51: FutureWarning: Conversion of the second argument of issubdtype from `float` to `np.floating` is deprecated. In future, it will be treated as `np.float64 == np.dtype(float).type`.\n",
      "  out_of_range_float = (np.issubdtype(image.dtype, np.float) and\n",
      "C:\\Users\\Admin\\Anaconda3\\lib\\site-packages\\skimage\\io\\_plugins\\matplotlib_plugin.py:74: UserWarning: Low image data range; displaying image with stretched contrast.\n",
      "  warn(\"Low image data range; displaying image with \"\n",
      "C:\\Users\\Admin\\Anaconda3\\lib\\site-packages\\matplotlib\\axes\\_base.py:1400: MatplotlibDeprecationWarning: The 'box-forced' keyword argument is deprecated since 2.2.\n",
      "  \" since 2.2.\", cbook.mplDeprecation)\n"
     ]
    },
    {
     "data": {
      "text/plain": [
       "0"
      ]
     },
     "execution_count": 7,
     "metadata": {},
     "output_type": "execute_result"
    },
    {
     "data": {
      "image/png": "[encoded data removed]",
      "text/plain": [
       "<Figure size 432x288 with 2 Axes>"
      ]
     },
     "metadata": {},
     "output_type": "display_data"
    }
   ],
   "source": [
    "label = dc.KMEAN.predict([[125,23,212]])[0]\n",
    "for i in range(0,neucleus.shape[0]):\n",
    "    for j in range(0,neucleus.shape[1]):\n",
    "        if neucleus[i][j] == dc.pLABEL[0] :\n",
    "            neucleus[i][j] = 255\n",
    "        else:\n",
    "            neucleus[i][j] = 0\n",
    "        if cytoplasm[i][j] == label:\n",
    "            cytoplasm[i][j] = 255\n",
    "        else:\n",
    "            cytoplasm[i][j] = 0\n",
    "imshow(neucleus,cmap='gray')\n",
    "label"
   ]
  },
  {
   "cell_type": "code",
   "execution_count": 8,
   "metadata": {},
   "outputs": [],
   "source": [
    "# from skimage.morphology import erosion, dilation, opening,closing\n",
    "# from skimage.morphology import square,disk,diamond,remove_small_objects,remove_small_holes\n",
    "# neucleus = neucleus.astype(bool)\n",
    "# neucleus = remove_small_objects(neucleus, 400)\n",
    "# from skimage.morphology import convex_hull_image\n",
    "# chull = convex_hull_image(neucleus)\n",
    "# imshow(chull)"
   ]
  },
  {
   "cell_type": "code",
   "execution_count": 9,
   "metadata": {},
   "outputs": [],
   "source": [
    "# from skimage.morphology import square,disk,diamond,remove_small_objects,remove_small_holes\n",
    "# for i in range(0,neucleus.shape[0]):\n",
    "#     for j in range(0,neucleus.shape[1]):\n",
    "#         if neucleus[i][j] <200:\n",
    "#             neucleus[i][j] =0\n",
    "# neucleus = remove_small_objects(neucleus, 20)\n",
    "# from skimage.morphology import convex_hull_image\n",
    "# chull = convex_hull_image(neucleus)\n",
    "# imshow(chull)\n",
    "# chull = chull.astype(np.uint8)"
   ]
  },
  {
   "cell_type": "code",
   "execution_count": 10,
   "metadata": {},
   "outputs": [
    {
     "name": "stderr",
     "output_type": "stream",
     "text": [
      "C:\\Users\\Admin\\Anaconda3\\lib\\site-packages\\skimage\\io\\_plugins\\matplotlib_plugin.py:51: FutureWarning: Conversion of the second argument of issubdtype from `float` to `np.floating` is deprecated. In future, it will be treated as `np.float64 == np.dtype(float).type`.\n",
      "  out_of_range_float = (np.issubdtype(image.dtype, np.float) and\n",
      "C:\\Users\\Admin\\Anaconda3\\lib\\site-packages\\skimage\\io\\_plugins\\matplotlib_plugin.py:74: UserWarning: Low image data range; displaying image with stretched contrast.\n",
      "  warn(\"Low image data range; displaying image with \"\n",
      "C:\\Users\\Admin\\Anaconda3\\lib\\site-packages\\matplotlib\\axes\\_base.py:1400: MatplotlibDeprecationWarning: The 'box-forced' keyword argument is deprecated since 2.2.\n",
      "  \" since 2.2.\", cbook.mplDeprecation)\n"
     ]
    },
    {
     "data": {
      "text/plain": [
       "<matplotlib.image.AxesImage at 0x2e811f5080>"
      ]
     },
     "execution_count": 10,
     "metadata": {},
     "output_type": "execute_result"
    },
    {
     "data": {
      "image/png": "[encoded data removed]",
      "text/plain": [
       "<Figure size 432x288 with 2 Axes>"
      ]
     },
     "metadata": {},
     "output_type": "display_data"
    }
   ],
   "source": [
    "imshow(cytoplasm)"
   ]
  },
  {
   "cell_type": "code",
   "execution_count": 11,
   "metadata": {},
   "outputs": [
    {
     "ename": "NameError",
     "evalue": "name 'opened' is not defined",
     "output_type": "error",
     "traceback": [
      "\u001b[1;31m---------------------------------------------------------------------------\u001b[0m",
      "\u001b[1;31mNameError\u001b[0m                                 Traceback (most recent call last)",
      "\u001b[1;32m<ipython-input-11-6d8e033b8973>\u001b[0m in \u001b[0;36m<module>\u001b[1;34m()\u001b[0m\n\u001b[0;32m      2\u001b[0m \u001b[1;32mfrom\u001b[0m \u001b[0mskimage\u001b[0m\u001b[1;33m.\u001b[0m\u001b[0mmorphology\u001b[0m \u001b[1;32mimport\u001b[0m \u001b[0merosion\u001b[0m\u001b[1;33m,\u001b[0m \u001b[0mdilation\u001b[0m\u001b[1;33m,\u001b[0m \u001b[0mopening\u001b[0m\u001b[1;33m,\u001b[0m\u001b[0mclosing\u001b[0m\u001b[1;33m\u001b[0m\u001b[0m\n\u001b[0;32m      3\u001b[0m \u001b[1;31m#opened = opening(cytoplasm+neucleus, square(2))\u001b[0m\u001b[1;33m\u001b[0m\u001b[1;33m\u001b[0m\u001b[0m\n\u001b[1;32m----> 4\u001b[1;33m \u001b[0mopened\u001b[0m \u001b[1;33m=\u001b[0m \u001b[0mcytoplasm\u001b[0m \u001b[1;33m+\u001b[0m \u001b[0mopened\u001b[0m\u001b[1;33m\u001b[0m\u001b[0m\n\u001b[0m\u001b[0;32m      5\u001b[0m \u001b[0mimshow\u001b[0m\u001b[1;33m(\u001b[0m\u001b[0mopened\u001b[0m\u001b[1;33m)\u001b[0m\u001b[1;33m\u001b[0m\u001b[0m\n",
      "\u001b[1;31mNameError\u001b[0m: name 'opened' is not defined"
     ]
    }
   ],
   "source": [
    "import numpy as np\n",
    "from skimage.morphology import erosion, dilation, opening,closing\n",
    "#opened = opening(cytoplasm+neucleus, square(2))\n",
    "opened = cytoplasm +neucleus\n",
    "imshow(opened)"
   ]
  },
  {
   "cell_type": "code",
   "execution_count": null,
   "metadata": {},
   "outputs": [],
   "source": [
    "for i in range(0,opened.shape[0]):\n",
    "    for j in range(0,opened.shape[1]):\n",
    "        if opened[i][j] <200:\n",
    "            opened[i][j] =0\n",
    "opened= opened.astype(bool)\n",
    "imshow(opened,cmap='gray')\n",
    "opened"
   ]
  },
  {
   "cell_type": "code",
   "execution_count": null,
   "metadata": {},
   "outputs": [],
   "source": [
    "# opened = closing(opened, square(1))\n",
    "# imshow(opened)"
   ]
  },
  {
   "cell_type": "code",
   "execution_count": null,
   "metadata": {},
   "outputs": [],
   "source": [
    "\n",
    "opened = remove_small_objects(opened, 200,connectivity=2)\n",
    "opened = remove_small_holes(opened,1600)\n",
    "imshow(opened)"
   ]
  },
  {
   "cell_type": "code",
   "execution_count": null,
   "metadata": {},
   "outputs": [],
   "source": [
    "from skimage.morphology import convex_hull_image\n",
    "chull = convex_hull_image(neucleus)\n",
    "chull2 = convex_hull_image(opened)\n",
    "imshow(chull)\n",
    "chull"
   ]
  },
  {
   "cell_type": "code",
   "execution_count": null,
   "metadata": {},
   "outputs": [],
   "source": [
    "#chull2 = convex_hull_image(opened)\n",
    "imshow(chull2)\n",
    "chull2"
   ]
  },
  {
   "cell_type": "code",
   "execution_count": null,
   "metadata": {},
   "outputs": [],
   "source": [
    "\n",
    "img = cv2.imread(orig)\n",
    "img = cv2.cvtColor(img, cv2.COLOR_BGR2RGB) "
   ]
  },
  {
   "cell_type": "code",
   "execution_count": null,
   "metadata": {},
   "outputs": [],
   "source": [
    "imshow(img)"
   ]
  },
  {
   "cell_type": "code",
   "execution_count": null,
   "metadata": {},
   "outputs": [],
   "source": [
    "for i in range(0,img.shape[0]):\n",
    "    for j in range(0,img.shape[1]):\n",
    "        if opened[i][j] ==0 :\n",
    "            img[i][j] = 0"
   ]
  },
  {
   "cell_type": "code",
   "execution_count": null,
   "metadata": {},
   "outputs": [],
   "source": [
    "imshow(img)"
   ]
  }
 ],
 "metadata": {
  "kernelspec": {
   "display_name": "Python 3",
   "language": "python",
   "name": "python3"
  },
  "language_info": {
   "codemirror_mode": {
    "name": "ipython",
    "version": 3
   },
   "file_extension": ".py",
   "mimetype": "text/x-python",
   "name": "python",
   "nbconvert_exporter": "python",
   "pygments_lexer": "ipython3",
   "version": "3.6.5"
  }
 },
 "nbformat": 4,
 "nbformat_minor": 2
}
