{
 "cells": [
  {
   "cell_type": "code",
   "execution_count": 1,
   "metadata": {},
   "outputs": [],
   "source": [
    "import cv2\n",
    "import numpy as np\n",
    "from matplotlib import pyplot as plt\n",
    "import pandas as pd\n",
    "from mpl_toolkits.mplot3d import Axes3D\n",
    "from sklearn.cluster import KMeans\n",
    "from skimage.io import imread , imshow\n",
    "from skimage import color\n",
    "from skimage import measure\n",
    "import math\n",
    "\n",
    "class DominantColors:\n",
    "\n",
    "    CLUSTERS = None\n",
    "    IMAGE = None\n",
    "    COLORS = None\n",
    "    LABELS = None\n",
    "    ORIG = None\n",
    "    WCSS = None\n",
    "    \n",
    "    def __init__(self, image, clusters):\n",
    "        self.CLUSTERS = clusters\n",
    "        self.IMAGE = image\n",
    "        \n",
    "    def dominantColors(self):\n",
    "    \n",
    "        #read image\n",
    "        img = cv2.imread(self.IMAGE)\n",
    "        self.ORIG = img.copy()\n",
    "        \n",
    "        #convert to rgb from bgr\n",
    "        #img = color.rgb2hsv(img)\n",
    "        img = cv2.cvtColor(img, cv2.COLOR_BGR2HSV) \n",
    "            \n",
    "        #reshaping to a list of pixels\n",
    "        img = img.reshape((img.shape[0] * img.shape[1], 3))\n",
    "        \n",
    "        #save image after operations\n",
    "        self.IMAGE = img\n",
    "        \n",
    "        #using k-means to cluster pixels\n",
    "        kmeans = KMeans(n_clusters = self.CLUSTERS, init = 'k-means++', random_state = 0)\n",
    "        kmeans.fit(img)\n",
    "        \n",
    "        #the cluster centers are our dominant colors.\n",
    "        self.COLORS = kmeans.cluster_centers_\n",
    "        \n",
    "        #save labels\n",
    "        self.LABELS = kmeans.labels_\n",
    "        \n",
    "        #returning after converting to integer from float\n",
    "        return self.COLORS\n",
    "    \n",
    "    def show(self):\n",
    "        cv2.imshow('img',self.ORIG)\n",
    "        \n",
    "    def elbow(self):\n",
    "        #Elbow method\n",
    "        wcss = []\n",
    "        for i in range(1, 10):\n",
    "            kmeans = KMeans(n_clusters = i, init = 'k-means++', random_state = 42)\n",
    "            kmeans.fit(self.IMAGE)\n",
    "            wcss.append(kmeans.inertia_)\n",
    "        self.WCSS = wcss\n",
    "        plt.plot(range(1, 10), wcss)\n",
    "        plt.title('The Elbow Method')\n",
    "        plt.xlabel('Number of clusters')\n",
    "        plt.ylabel('WCSS')\n",
    "        plt.show()"
   ]
  },
  {
   "cell_type": "code",
   "execution_count": 2,
   "metadata": {
    "scrolled": true
   },
   "outputs": [
    {
     "name": "stdout",
     "output_type": "stream",
     "text": [
      "[[ 26.4712226  101.77646231 251.78923925]\n",
      " [142.90333333 241.38933333  76.958     ]\n",
      " [ 11.93077803 101.73770023 169.10583524]\n",
      " [167.82817869 105.9255441  118.64375716]]\n"
     ]
    },
    {
     "data": {
      "image/png": "[encoded data removed]",
      "text/plain": [
       "<Figure size 432x288 with 1 Axes>"
      ]
     },
     "metadata": {},
     "output_type": "display_data"
    }
   ],
   "source": [
    "img = 'segmentation_WBC-master/Dataset 1/003.bmp'\n",
    "clusters = 4\n",
    "dc = DominantColors(img, clusters) \n",
    "\n",
    "#cv2.imshow('image',img)\n",
    "colors = dc.dominantColors()\n",
    "#cv2.imshow('Test',dc.mark_label(212,181,213))\n",
    "\n",
    "print(colors)\n",
    "dc.elbow()"
   ]
  },
  {
   "cell_type": "markdown",
   "metadata": {},
   "source": [
    "##            y         -          y1        = m ( x - x1 )\n",
    "dc.WCSS[0] - dc.WCSS[8] = m ( 1 - 9)"
   ]
  },
  {
   "cell_type": "code",
   "execution_count": 25,
   "metadata": {},
   "outputs": [
    {
     "name": "stdout",
     "output_type": "stream",
     "text": [
      "-14955524.795518264\n"
     ]
    },
    {
     "data": {
      "text/plain": [
       "122888397.63645832"
      ]
     },
     "execution_count": 25,
     "metadata": {},
     "output_type": "execute_result"
    }
   ],
   "source": [
    "m = (dc.WCSS[0]-dc.WCSS[8])/(1-9)\n",
    "print(m)\n",
    "dc.WCSS[0]"
   ]
  },
  {
   "cell_type": "markdown",
   "metadata": {},
   "source": [
    "## y=mx+c\n",
    "c = y-mx\n",
    "( x , y )\n",
    "\n",
    "( 1 , WCSS[0] )"
   ]
  },
  {
   "cell_type": "code",
   "execution_count": 27,
   "metadata": {},
   "outputs": [
    {
     "name": "stdout",
     "output_type": "stream",
     "text": [
      "137843922.4319766\n"
     ]
    },
    {
     "data": {
      "text/plain": [
       "122888397.63645832"
      ]
     },
     "execution_count": 27,
     "metadata": {},
     "output_type": "execute_result"
    }
   ],
   "source": [
    "c = dc.WCSS[0]-m*1\n",
    "print(c)"
   ]
  },
  {
   "cell_type": "markdown",
   "metadata": {},
   "source": [
    "y=mx+c\n",
    "\n",
    "mx-y+c=0\n",
    "\n",
    "Ax+By+C=0\n",
    "\n",
    "P(x1,y1)\n",
    "\n",
    "d = |A*x1+B*y1+C|/sqrt(A^2+B^2)"
   ]
  },
  {
   "cell_type": "code",
   "execution_count": 24,
   "metadata": {},
   "outputs": [
    {
     "name": "stdout",
     "output_type": "stream",
     "text": [
      "1 122888397.63645832\n",
      "1: 16.433846263059138\n",
      "1 16.433846263059138\n",
      "2 9.699907457164489\n",
      "3 7.529065523799679\n",
      "4 5.767196738516495\n",
      "5 4.600513898596343\n",
      "6 3.5455928229097595\n",
      "7 2.497301334602449\n",
      "8 1.4556820878165928\n",
      "9 0.4338462630591721\n",
      "1\n"
     ]
    }
   ],
   "source": [
    "A=m\n",
    "B=1\n",
    "maxD = 0\n",
    "K = 0\n",
    "for x1,y1 in enumerate(dc.WCSS,1):\n",
    "    d = abs(A*x1+B*y1+c)/math.sqrt(A**2+B**2)\n",
    "    if d > maxD:\n",
    "        maxD = d\n",
    "        K=x1\n",
    "        print(x1,y1)\n",
    "        print(str(K)+':',d)\n",
    "    print(x1,d)\n",
    "print(K)"
   ]
  },
  {
   "cell_type": "code",
   "execution_count": null,
   "metadata": {},
   "outputs": [],
   "source": []
  }
 ],
 "metadata": {
  "kernelspec": {
   "display_name": "Python 3",
   "language": "python",
   "name": "python3"
  },
  "language_info": {
   "codemirror_mode": {
    "name": "ipython",
    "version": 3
   },
   "file_extension": ".py",
   "mimetype": "text/x-python",
   "name": "python",
   "nbconvert_exporter": "python",
   "pygments_lexer": "ipython3",
   "version": "3.6.5"
  }
 },
 "nbformat": 4,
 "nbformat_minor": 2
}
