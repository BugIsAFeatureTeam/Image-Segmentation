{
 "cells": [
  {
   "cell_type": "code",
   "execution_count": 1,
   "metadata": {},
   "outputs": [],
   "source": [
    "import cv2\n",
    "import numpy as np\n",
    "from matplotlib import pyplot as plt\n",
    "import pandas as pd\n",
    "from mpl_toolkits.mplot3d import Axes3D\n",
    "from sklearn.cluster import KMeans\n",
    "from skimage.io import imread , imshow\n",
    "from skimage import color\n",
    "from skimage import measure\n",
    "from skimage import exposure\n",
    "import math\n",
    "from skimage.morphology import opening, binary_opening\n",
    "from skimage.morphology import disk\n",
    "class DominantColors:\n",
    "\n",
    "    CLUSTERS = None\n",
    "    IMAGE = None\n",
    "    TIMG = None\n",
    "    COLORS = None\n",
    "    LABELS = None\n",
    "    ORIG = None\n",
    "    WCSS = None\n",
    "    pLABEL = None\n",
    "    \n",
    "    def __init__(self, image):\n",
    "        #read image\n",
    "        img = cv2.imread(image)\n",
    "        \n",
    "        #convert to rgb from bgr\n",
    "        #img = color.rgb2hsv(img)\n",
    "        img = cv2.cvtColor(img, cv2.COLOR_BGR2GRAY) \n",
    "        self.ORIG = img.copy()\n",
    "        \n",
    "        # Contrast stretching\n",
    "        p2, p98 = np.percentile(img, (2, 98))\n",
    "        img = exposure.rescale_intensity(img, in_range=(p2, p98))\n",
    "        self.TIMG = img.copy()\n",
    "        \n",
    "        #reshaping to a list of pixels\n",
    "        img = img.reshape((img.shape[0] * img.shape[1], 1))\n",
    "        \n",
    "        #save image after operations\n",
    "        self.IMAGE = img\n",
    "        \n",
    "    def dominantColors(self):\n",
    "        \n",
    "        #using k-means to cluster pixels\n",
    "        kmeans = KMeans(n_clusters = self.CLUSTERS, init = 'k-means++', random_state = 0)\n",
    "        kmeans.fit(self.IMAGE)\n",
    "        \n",
    "        #the cluster centers are our dominant colors.\n",
    "        self.COLORS = kmeans.cluster_centers_\n",
    "        \n",
    "        #save labels\n",
    "        self.LABELS = kmeans.labels_\n",
    "        \n",
    "        #find label of purple color\n",
    "        #self.pLABEL = kmeans.predict([[128,0,128]])\n",
    "        #self.pLABEL = kmeans.predict([[150,255,127]])\n",
    "        self.pLABEL = kmeans.predict([[0]])\n",
    "        \n",
    "        #returning after converting to integer from float\n",
    "        return self.COLORS\n",
    "    \n",
    "    def setIMG(self,img):\n",
    "        # Contrast stretching\n",
    "        p2, p98 = np.percentile(img, (2, 98))\n",
    "        img = exposure.rescale_intensity(img, in_range=(p2, p98))\n",
    "        self.TIMG = img.copy()\n",
    "        \n",
    "        #reshaping to a list of pixels\n",
    "        img = img.reshape((img.shape[0] * img.shape[1], 1))\n",
    "        \n",
    "        #save image after operations\n",
    "        self.IMAGE = img\n",
    "    \n",
    "    def showO(self):\n",
    "        imshow(self.ORIG)\n",
    "    \n",
    "    def showTIMG(self):\n",
    "        imshow(self.TIMG)\n",
    "        \n",
    "    def elbow(self):\n",
    "        #Elbow method\n",
    "        wcss = []\n",
    "        for i in range(1, 10):\n",
    "            kmeans = KMeans(n_clusters = i, init = 'k-means++', random_state = 42)\n",
    "            kmeans.fit(self.IMAGE)\n",
    "            wcss.append(kmeans.inertia_)\n",
    "        self.WCSS = wcss\n",
    "        plt.plot(range(1, 10), wcss)\n",
    "        plt.title('The Elbow Method')\n",
    "        plt.xlabel('Number of clusters')\n",
    "        plt.ylabel('WCSS')\n",
    "        plt.show()\n",
    "        \n",
    "    def findK(self):\n",
    "        m = (self.WCSS[0]-self.WCSS[8])/(1-9)\n",
    "        c = self.WCSS[0]-m*1\n",
    "        A=m\n",
    "        B=-1\n",
    "        maxD = 0\n",
    "        K = 0\n",
    "        for x1,y1 in enumerate(self.WCSS,1):\n",
    "            d = abs(A*x1+B*y1+c)/math.sqrt(A**2+B**2)\n",
    "            if d > maxD:\n",
    "                maxD = d\n",
    "                self.CLUSTERS=x1+1\n",
    "        print('found :'+str(self.CLUSTERS)+' group')\n",
    "        return self.CLUSTERS"
   ]
  },
  {
   "cell_type": "code",
   "execution_count": 2,
   "metadata": {
    "scrolled": true
   },
   "outputs": [
    {
     "data": {
      "image/png": "[encoded data removed]",
      "text/plain": [
       "<Figure size 432x288 with 1 Axes>"
      ]
     },
     "metadata": {},
     "output_type": "display_data"
    },
    {
     "name": "stdout",
     "output_type": "stream",
     "text": [
      "found :2 group\n"
     ]
    },
    {
     "data": {
      "text/plain": [
       "array([[230],\n",
       "       [201],\n",
       "       [199],\n",
       "       ...,\n",
       "       [227],\n",
       "       [227],\n",
       "       [226]], dtype=uint8)"
      ]
     },
     "execution_count": 2,
     "metadata": {},
     "output_type": "execute_result"
    }
   ],
   "source": [
    "img = 'segmentation_WBC-master/compare/0.png'\n",
    "dc = DominantColors(img) \n",
    "dc.elbow()\n",
    "dc.findK()\n",
    "dc.IMAGE"
   ]
  },
  {
   "cell_type": "code",
   "execution_count": 23,
   "metadata": {},
   "outputs": [
    {
     "name": "stderr",
     "output_type": "stream",
     "text": [
      "C:\\Users\\58011256\\AppData\\Local\\Continuum\\anaconda3\\lib\\site-packages\\skimage\\io\\_plugins\\matplotlib_plugin.py:51: FutureWarning: Conversion of the second argument of issubdtype from `float` to `np.floating` is deprecated. In future, it will be treated as `np.float64 == np.dtype(float).type`.\n",
      "  out_of_range_float = (np.issubdtype(image.dtype, np.float) and\n",
      "C:\\Users\\58011256\\AppData\\Local\\Continuum\\anaconda3\\lib\\site-packages\\matplotlib\\axes\\_base.py:1400: MatplotlibDeprecationWarning: The 'box-forced' keyword argument is deprecated since 2.2.\n",
      "  \" since 2.2.\", cbook.mplDeprecation)\n"
     ]
    },
    {
     "data": {
      "text/plain": [
       "array([[ 64.54458955],\n",
       "       [254.88965517]])"
      ]
     },
     "execution_count": 23,
     "metadata": {},
     "output_type": "execute_result"
    },
    {
     "data": {
      "image/png": "[encoded data removed]",
      "text/plain": [
       "<Figure size 432x288 with 1 Axes>"
      ]
     },
     "metadata": {},
     "output_type": "display_data"
    }
   ],
   "source": [
    "dc.dominantColors()\n",
    "dc.showO() \n",
    "dc.COLORS"
   ]
  },
  {
   "cell_type": "code",
   "execution_count": 4,
   "metadata": {},
   "outputs": [
    {
     "name": "stderr",
     "output_type": "stream",
     "text": [
      "C:\\Users\\58011256\\AppData\\Local\\Continuum\\anaconda3\\lib\\site-packages\\skimage\\io\\_plugins\\matplotlib_plugin.py:51: FutureWarning: Conversion of the second argument of issubdtype from `float` to `np.floating` is deprecated. In future, it will be treated as `np.float64 == np.dtype(float).type`.\n",
      "  out_of_range_float = (np.issubdtype(image.dtype, np.float) and\n",
      "C:\\Users\\58011256\\AppData\\Local\\Continuum\\anaconda3\\lib\\site-packages\\matplotlib\\axes\\_base.py:1400: MatplotlibDeprecationWarning: The 'box-forced' keyword argument is deprecated since 2.2.\n",
      "  \" since 2.2.\", cbook.mplDeprecation)\n"
     ]
    },
    {
     "data": {
      "image/png": "[encoded data removed]",
      "text/plain": [
       "<Figure size 432x288 with 1 Axes>"
      ]
     },
     "metadata": {},
     "output_type": "display_data"
    }
   ],
   "source": [
    "dc.COLORS\n",
    "dc.showTIMG()"
   ]
  },
  {
   "cell_type": "code",
   "execution_count": 5,
   "metadata": {},
   "outputs": [],
   "source": [
    "dc.LABELS\n",
    "new = np.reshape(dc.LABELS, (-1, dc.ORIG.shape[1]))"
   ]
  },
  {
   "cell_type": "code",
   "execution_count": 6,
   "metadata": {},
   "outputs": [
    {
     "data": {
      "text/plain": [
       "array([[0, 0, 0, ..., 0, 0, 0],\n",
       "       [0, 0, 0, ..., 0, 0, 0],\n",
       "       [0, 0, 1, ..., 1, 0, 0],\n",
       "       ...,\n",
       "       [0, 0, 1, ..., 1, 0, 0],\n",
       "       [0, 0, 0, ..., 0, 0, 0],\n",
       "       [0, 0, 0, ..., 0, 0, 0]])"
      ]
     },
     "execution_count": 6,
     "metadata": {},
     "output_type": "execute_result"
    }
   ],
   "source": [
    "new"
   ]
  },
  {
   "cell_type": "code",
   "execution_count": 7,
   "metadata": {},
   "outputs": [
    {
     "data": {
      "text/plain": [
       "100"
      ]
     },
     "execution_count": 7,
     "metadata": {},
     "output_type": "execute_result"
    }
   ],
   "source": [
    "dc.pLABEL[0]\n",
    "new.shape[0]"
   ]
  },
  {
   "cell_type": "code",
   "execution_count": 8,
   "metadata": {
    "scrolled": true
   },
   "outputs": [
    {
     "name": "stderr",
     "output_type": "stream",
     "text": [
      "C:\\Users\\58011256\\AppData\\Local\\Continuum\\anaconda3\\lib\\site-packages\\skimage\\io\\_plugins\\matplotlib_plugin.py:51: FutureWarning: Conversion of the second argument of issubdtype from `float` to `np.floating` is deprecated. In future, it will be treated as `np.float64 == np.dtype(float).type`.\n",
      "  out_of_range_float = (np.issubdtype(image.dtype, np.float) and\n",
      "C:\\Users\\58011256\\AppData\\Local\\Continuum\\anaconda3\\lib\\site-packages\\skimage\\io\\_plugins\\matplotlib_plugin.py:74: UserWarning: Low image data range; displaying image with stretched contrast.\n",
      "  warn(\"Low image data range; displaying image with \"\n",
      "C:\\Users\\58011256\\AppData\\Local\\Continuum\\anaconda3\\lib\\site-packages\\matplotlib\\axes\\_base.py:1400: MatplotlibDeprecationWarning: The 'box-forced' keyword argument is deprecated since 2.2.\n",
      "  \" since 2.2.\", cbook.mplDeprecation)\n"
     ]
    },
    {
     "data": {
      "text/plain": [
       "<matplotlib.image.AxesImage at 0x175d946d4a8>"
      ]
     },
     "execution_count": 8,
     "metadata": {},
     "output_type": "execute_result"
    },
    {
     "data": {
      "image/png": "[encoded data removed]",
      "text/plain": [
       "<Figure size 432x288 with 2 Axes>"
      ]
     },
     "metadata": {},
     "output_type": "display_data"
    }
   ],
   "source": [
    "for i in range(0,new.shape[0]):\n",
    "    for j in range(0,new.shape[1]):\n",
    "        if new[i][j] == dc.pLABEL[0]:\n",
    "            new[i][j] = 255\n",
    "        else:\n",
    "            new[i][j] = 0\n",
    "imshow(new,cmap='gray')"
   ]
  },
  {
   "cell_type": "code",
   "execution_count": 9,
   "metadata": {},
   "outputs": [
    {
     "data": {
      "text/plain": [
       "array([[  0,   0,   0, ...,   0,   0,   0],\n",
       "       [  0,   0,   0, ...,   0,   0,   0],\n",
       "       [  0,   0, 255, ..., 255,   0,   0],\n",
       "       ...,\n",
       "       [  0,   0, 255, ..., 255,   0,   0],\n",
       "       [  0,   0,   0, ...,   0,   0,   0],\n",
       "       [  0,   0,   0, ...,   0,   0,   0]])"
      ]
     },
     "execution_count": 9,
     "metadata": {},
     "output_type": "execute_result"
    }
   ],
   "source": [
    "new"
   ]
  },
  {
   "cell_type": "code",
   "execution_count": 10,
   "metadata": {},
   "outputs": [
    {
     "data": {
      "text/plain": [
       "array([1])"
      ]
     },
     "execution_count": 10,
     "metadata": {},
     "output_type": "execute_result"
    }
   ],
   "source": [
    "dc.pLABEL"
   ]
  },
  {
   "cell_type": "code",
   "execution_count": 11,
   "metadata": {},
   "outputs": [
    {
     "name": "stderr",
     "output_type": "stream",
     "text": [
      "C:\\Users\\58011256\\AppData\\Local\\Continuum\\anaconda3\\lib\\site-packages\\skimage\\io\\_plugins\\matplotlib_plugin.py:51: FutureWarning: Conversion of the second argument of issubdtype from `float` to `np.floating` is deprecated. In future, it will be treated as `np.float64 == np.dtype(float).type`.\n",
      "  out_of_range_float = (np.issubdtype(image.dtype, np.float) and\n",
      "C:\\Users\\58011256\\AppData\\Local\\Continuum\\anaconda3\\lib\\site-packages\\skimage\\io\\_plugins\\matplotlib_plugin.py:74: UserWarning: Low image data range; displaying image with stretched contrast.\n",
      "  warn(\"Low image data range; displaying image with \"\n",
      "C:\\Users\\58011256\\AppData\\Local\\Continuum\\anaconda3\\lib\\site-packages\\matplotlib\\axes\\_base.py:1400: MatplotlibDeprecationWarning: The 'box-forced' keyword argument is deprecated since 2.2.\n",
      "  \" since 2.2.\", cbook.mplDeprecation)\n"
     ]
    },
    {
     "data": {
      "text/plain": [
       "<matplotlib.image.AxesImage at 0x175d9510b70>"
      ]
     },
     "execution_count": 11,
     "metadata": {},
     "output_type": "execute_result"
    },
    {
     "data": {
      "image/png": "[encoded data removed]",
      "text/plain": [
       "<Figure size 432x288 with 2 Axes>"
      ]
     },
     "metadata": {},
     "output_type": "display_data"
    }
   ],
   "source": [
    "selem = disk(6)\n",
    "opened = opening(new)\n",
    "imshow(opened,cmap='gray')"
   ]
  },
  {
   "cell_type": "code",
   "execution_count": 12,
   "metadata": {},
   "outputs": [
    {
     "data": {
      "text/plain": [
       "array([[185, 162, 160, ..., 192, 179, 177],\n",
       "       [181, 157, 159, ..., 197, 194, 186],\n",
       "       [176, 157,   0, ...,   0, 201, 199],\n",
       "       ...,\n",
       "       [209, 199,   0, ...,   0, 204, 201],\n",
       "       [211, 203, 194, ..., 193, 192, 191],\n",
       "       [213, 208, 199, ..., 183, 183, 182]], dtype=uint8)"
      ]
     },
     "execution_count": 12,
     "metadata": {},
     "output_type": "execute_result"
    }
   ],
   "source": [
    "Nsub = dc.ORIG.copy()\n",
    "Nsub"
   ]
  },
  {
   "cell_type": "code",
   "execution_count": 13,
   "metadata": {},
   "outputs": [],
   "source": [
    "for i in range (0,opened.shape[0]):\n",
    "    for j in range (0,opened.shape[1]):\n",
    "        if opened[i][j] >250:\n",
    "            Nsub[i][j] = 255"
   ]
  },
  {
   "cell_type": "code",
   "execution_count": 14,
   "metadata": {},
   "outputs": [
    {
     "name": "stderr",
     "output_type": "stream",
     "text": [
      "C:\\Users\\58011256\\AppData\\Local\\Continuum\\anaconda3\\lib\\site-packages\\skimage\\io\\_plugins\\matplotlib_plugin.py:51: FutureWarning: Conversion of the second argument of issubdtype from `float` to `np.floating` is deprecated. In future, it will be treated as `np.float64 == np.dtype(float).type`.\n",
      "  out_of_range_float = (np.issubdtype(image.dtype, np.float) and\n",
      "C:\\Users\\58011256\\AppData\\Local\\Continuum\\anaconda3\\lib\\site-packages\\matplotlib\\axes\\_base.py:1400: MatplotlibDeprecationWarning: The 'box-forced' keyword argument is deprecated since 2.2.\n",
      "  \" since 2.2.\", cbook.mplDeprecation)\n"
     ]
    },
    {
     "data": {
      "text/plain": [
       "<matplotlib.image.AxesImage at 0x175d95a5860>"
      ]
     },
     "execution_count": 14,
     "metadata": {},
     "output_type": "execute_result"
    },
    {
     "data": {
      "image/png": "[encoded data removed]",
      "text/plain": [
       "<Figure size 432x288 with 1 Axes>"
      ]
     },
     "metadata": {},
     "output_type": "display_data"
    }
   ],
   "source": [
    "imshow(Nsub)"
   ]
  },
  {
   "cell_type": "code",
   "execution_count": 15,
   "metadata": {},
   "outputs": [
    {
     "data": {
      "image/png": "[encoded data removed]",
      "text/plain": [
       "<Figure size 432x288 with 1 Axes>"
      ]
     },
     "metadata": {},
     "output_type": "display_data"
    },
    {
     "name": "stdout",
     "output_type": "stream",
     "text": [
      "found :2 group\n"
     ]
    },
    {
     "data": {
      "text/plain": [
       "array([[ 64.54458955],\n",
       "       [254.88965517]])"
      ]
     },
     "execution_count": 15,
     "metadata": {},
     "output_type": "execute_result"
    }
   ],
   "source": [
    "dc.setIMG(Nsub) \n",
    "dc.elbow()\n",
    "dc.findK()\n",
    "dc.IMAGE\n",
    "dc.dominantColors()"
   ]
  },
  {
   "cell_type": "code",
   "execution_count": 16,
   "metadata": {},
   "outputs": [],
   "source": [
    "new = np.reshape(dc.LABELS, (-1, dc.ORIG.shape[1]))"
   ]
  },
  {
   "cell_type": "code",
   "execution_count": 17,
   "metadata": {},
   "outputs": [
    {
     "data": {
      "text/plain": [
       "array([[0, 0, 0, ..., 0, 0, 0],\n",
       "       [0, 0, 0, ..., 0, 0, 0],\n",
       "       [0, 0, 0, ..., 0, 0, 0],\n",
       "       ...,\n",
       "       [0, 0, 0, ..., 0, 0, 0],\n",
       "       [0, 0, 0, ..., 0, 0, 0],\n",
       "       [0, 0, 0, ..., 0, 0, 0]])"
      ]
     },
     "execution_count": 17,
     "metadata": {},
     "output_type": "execute_result"
    }
   ],
   "source": [
    "new"
   ]
  },
  {
   "cell_type": "code",
   "execution_count": 18,
   "metadata": {},
   "outputs": [
    {
     "name": "stderr",
     "output_type": "stream",
     "text": [
      "C:\\Users\\58011256\\AppData\\Local\\Continuum\\anaconda3\\lib\\site-packages\\skimage\\io\\_plugins\\matplotlib_plugin.py:51: FutureWarning: Conversion of the second argument of issubdtype from `float` to `np.floating` is deprecated. In future, it will be treated as `np.float64 == np.dtype(float).type`.\n",
      "  out_of_range_float = (np.issubdtype(image.dtype, np.float) and\n",
      "C:\\Users\\58011256\\AppData\\Local\\Continuum\\anaconda3\\lib\\site-packages\\skimage\\io\\_plugins\\matplotlib_plugin.py:74: UserWarning: Low image data range; displaying image with stretched contrast.\n",
      "  warn(\"Low image data range; displaying image with \"\n",
      "C:\\Users\\58011256\\AppData\\Local\\Continuum\\anaconda3\\lib\\site-packages\\matplotlib\\axes\\_base.py:1400: MatplotlibDeprecationWarning: The 'box-forced' keyword argument is deprecated since 2.2.\n",
      "  \" since 2.2.\", cbook.mplDeprecation)\n"
     ]
    },
    {
     "data": {
      "text/plain": [
       "array([[70, 70, 70, ..., 70, 70, 70],\n",
       "       [70, 70, 70, ..., 70, 70, 70],\n",
       "       [70, 70, 70, ..., 70, 70, 70],\n",
       "       ...,\n",
       "       [70, 70, 70, ..., 70, 70, 70],\n",
       "       [70, 70, 70, ..., 70, 70, 70],\n",
       "       [70, 70, 70, ..., 70, 70, 70]])"
      ]
     },
     "execution_count": 18,
     "metadata": {},
     "output_type": "execute_result"
    },
    {
     "data": {
      "image/png": "[encoded data removed]",
      "text/plain": [
       "<Figure size 432x288 with 2 Axes>"
      ]
     },
     "metadata": {},
     "output_type": "display_data"
    }
   ],
   "source": [
    "for i in range(0,new.shape[0]):\n",
    "    for j in range(0,new.shape[1]):\n",
    "        if new[i][j] == dc.pLABEL[0]:\n",
    "            new[i][j] = 70\n",
    "        else:\n",
    "            new[i][j] = 0\n",
    "imshow(new,cmap='gray')\n",
    "new"
   ]
  },
  {
   "cell_type": "code",
   "execution_count": 19,
   "metadata": {},
   "outputs": [
    {
     "name": "stderr",
     "output_type": "stream",
     "text": [
      "C:\\Users\\58011256\\AppData\\Local\\Continuum\\anaconda3\\lib\\site-packages\\skimage\\io\\_plugins\\matplotlib_plugin.py:51: FutureWarning: Conversion of the second argument of issubdtype from `float` to `np.floating` is deprecated. In future, it will be treated as `np.float64 == np.dtype(float).type`.\n",
      "  out_of_range_float = (np.issubdtype(image.dtype, np.float) and\n",
      "C:\\Users\\58011256\\AppData\\Local\\Continuum\\anaconda3\\lib\\site-packages\\skimage\\io\\_plugins\\matplotlib_plugin.py:74: UserWarning: Low image data range; displaying image with stretched contrast.\n",
      "  warn(\"Low image data range; displaying image with \"\n",
      "C:\\Users\\58011256\\AppData\\Local\\Continuum\\anaconda3\\lib\\site-packages\\matplotlib\\axes\\_base.py:1400: MatplotlibDeprecationWarning: The 'box-forced' keyword argument is deprecated since 2.2.\n",
      "  \" since 2.2.\", cbook.mplDeprecation)\n"
     ]
    },
    {
     "data": {
      "text/plain": [
       "<matplotlib.image.AxesImage at 0x175d95ecd68>"
      ]
     },
     "execution_count": 19,
     "metadata": {},
     "output_type": "execute_result"
    },
    {
     "data": {
      "image/png": "[encoded data removed]",
      "text/plain": [
       "<Figure size 432x288 with 2 Axes>"
      ]
     },
     "metadata": {},
     "output_type": "display_data"
    }
   ],
   "source": [
    "Copened = opening(new)\n",
    "imshow(Copened,cmap='gray')"
   ]
  },
  {
   "cell_type": "code",
   "execution_count": 20,
   "metadata": {},
   "outputs": [
    {
     "data": {
      "text/plain": [
       "70"
      ]
     },
     "execution_count": 20,
     "metadata": {},
     "output_type": "execute_result"
    }
   ],
   "source": [
    "new[80][60]"
   ]
  },
  {
   "cell_type": "code",
   "execution_count": 21,
   "metadata": {},
   "outputs": [],
   "source": [
    "last = (opened+Copened)/2"
   ]
  },
  {
   "cell_type": "code",
   "execution_count": 22,
   "metadata": {},
   "outputs": [
    {
     "name": "stderr",
     "output_type": "stream",
     "text": [
      "C:\\Users\\58011256\\AppData\\Local\\Continuum\\anaconda3\\lib\\site-packages\\skimage\\io\\_plugins\\matplotlib_plugin.py:51: FutureWarning: Conversion of the second argument of issubdtype from `float` to `np.floating` is deprecated. In future, it will be treated as `np.float64 == np.dtype(float).type`.\n",
      "  out_of_range_float = (np.issubdtype(image.dtype, np.float) and\n",
      "C:\\Users\\58011256\\AppData\\Local\\Continuum\\anaconda3\\lib\\site-packages\\skimage\\io\\_plugins\\matplotlib_plugin.py:77: UserWarning: Float image out of standard range; displaying image with stretched contrast.\n",
      "  warn(\"Float image out of standard range; displaying \"\n",
      "C:\\Users\\58011256\\AppData\\Local\\Continuum\\anaconda3\\lib\\site-packages\\matplotlib\\axes\\_base.py:1400: MatplotlibDeprecationWarning: The 'box-forced' keyword argument is deprecated since 2.2.\n",
      "  \" since 2.2.\", cbook.mplDeprecation)\n"
     ]
    },
    {
     "data": {
      "text/plain": [
       "<matplotlib.image.AxesImage at 0x175d9688748>"
      ]
     },
     "execution_count": 22,
     "metadata": {},
     "output_type": "execute_result"
    },
    {
     "data": {
      "image/png": "[encoded data removed]",
      "text/plain": [
       "<Figure size 432x288 with 2 Axes>"
      ]
     },
     "metadata": {},
     "output_type": "display_data"
    }
   ],
   "source": [
    "imshow(last,cmap='gray')"
   ]
  },
  {
   "cell_type": "code",
   "execution_count": null,
   "metadata": {},
   "outputs": [],
   "source": []
  }
 ],
 "metadata": {
  "kernelspec": {
   "display_name": "Python 3",
   "language": "python",
   "name": "python3"
  },
  "language_info": {
   "codemirror_mode": {
    "name": "ipython",
    "version": 3
   },
   "file_extension": ".py",
   "mimetype": "text/x-python",
   "name": "python",
   "nbconvert_exporter": "python",
   "pygments_lexer": "ipython3",
   "version": "3.6.5"
  }
 },
 "nbformat": 4,
 "nbformat_minor": 2
}
