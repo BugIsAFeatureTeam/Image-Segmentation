{
 "cells": [
  {
   "cell_type": "code",
   "execution_count": 1,
   "metadata": {},
   "outputs": [],
   "source": [
    "import cv2\n",
    "import numpy as np\n",
    "from matplotlib import pyplot as plt\n",
    "import pandas as pd\n",
    "from mpl_toolkits.mplot3d import Axes3D\n",
    "from sklearn.cluster import KMeans\n",
    "from skimage.io import imread , imshow\n",
    "from skimage import color\n",
    "from skimage import measure\n",
    "import math\n",
    "\n",
    "class DominantColors:\n",
    "\n",
    "    CLUSTERS = None\n",
    "    IMAGE = None\n",
    "    COLORS = None\n",
    "    LABELS = None\n",
    "    ORIG = None\n",
    "    WCSS = None\n",
    "    \n",
    "    def __init__(self, image, clusters):\n",
    "        self.CLUSTERS = clusters\n",
    "        self.IMAGE = image\n",
    "        \n",
    "    def dominantColors(self):\n",
    "    \n",
    "        #read image\n",
    "        img = cv2.imread(self.IMAGE)\n",
    "        self.ORIG = img.copy()\n",
    "        \n",
    "        #convert to rgb from bgr\n",
    "        #img = color.rgb2hsv(img)\n",
    "        img = cv2.cvtColor(img, cv2.COLOR_BGR2HSV) \n",
    "            \n",
    "        #reshaping to a list of pixels\n",
    "        img = img.reshape((img.shape[0] * img.shape[1], 3))\n",
    "        \n",
    "        #save image after operations\n",
    "        self.IMAGE = img\n",
    "        \n",
    "        #using k-means to cluster pixels\n",
    "        kmeans = KMeans(n_clusters = self.CLUSTERS, init = 'k-means++', random_state = 0)\n",
    "        kmeans.fit(img)\n",
    "        \n",
    "        #the cluster centers are our dominant colors.\n",
    "        self.COLORS = kmeans.cluster_centers_\n",
    "        \n",
    "        #save labels\n",
    "        self.LABELS = kmeans.labels_\n",
    "        \n",
    "        #returning after converting to integer from float\n",
    "        return self.COLORS\n",
    "    \n",
    "    def show(self):\n",
    "        cv2.imshow('img',self.ORIG)\n",
    "        \n",
    "    def elbow(self):\n",
    "        #Elbow method\n",
    "        wcss = []\n",
    "        for i in range(1, 10):\n",
    "            kmeans = KMeans(n_clusters = i, init = 'k-means++', random_state = 42)\n",
    "            kmeans.fit(self.IMAGE)\n",
    "            wcss.append(kmeans.inertia_)\n",
    "        self.WCSS = wcss\n",
    "        plt.plot(range(1, 10), wcss)\n",
    "        plt.title('The Elbow Method')\n",
    "        plt.xlabel('Number of clusters')\n",
    "        plt.ylabel('WCSS')\n",
    "        plt.show()"
   ]
  },
  {
   "cell_type": "code",
   "execution_count": 16,
   "metadata": {
    "scrolled": true
   },
   "outputs": [
    {
     "name": "stdout",
     "output_type": "stream",
     "text": [
      "[[ 27.30624021  97.09587008 252.97378617]\n",
      " [144.87209302 230.1431686   93.51090116]\n",
      " [140.         109.43731778 115.67346939]\n",
      " [ 26.50545455  72.48181818 170.04909091]]\n"
     ]
    },
    {
     "data": {
      "image/png": "[encoded data removed]",
      "text/plain": [
       "<Figure size 432x288 with 1 Axes>"
      ]
     },
     "metadata": {},
     "output_type": "display_data"
    }
   ],
   "source": [
    "img = 'segmentation_WBC-master/Dataset 1/001.bmp'\n",
    "clusters = 4\n",
    "dc = DominantColors(img, clusters) \n",
    "\n",
    "#cv2.imshow('image',img)\n",
    "colors = dc.dominantColors()\n",
    "#cv2.imshow('Test',dc.mark_label(212,181,213))\n",
    "\n",
    "print(colors)\n",
    "dc.elbow()"
   ]
  },
  {
   "cell_type": "markdown",
   "metadata": {},
   "source": [
    "##            y         -          y1        = m ( x - x1 )\n",
    "dc.WCSS[0] - dc.WCSS[8] = m ( 1 - 9)"
   ]
  },
  {
   "cell_type": "code",
   "execution_count": 17,
   "metadata": {},
   "outputs": [
    {
     "name": "stdout",
     "output_type": "stream",
     "text": [
      "-10555811.044158945\n"
     ]
    },
    {
     "data": {
      "text/plain": [
       "86495523.27513888"
      ]
     },
     "execution_count": 17,
     "metadata": {},
     "output_type": "execute_result"
    }
   ],
   "source": [
    "m = (dc.WCSS[0]-dc.WCSS[8])/(1-9)\n",
    "print(m)\n",
    "dc.WCSS[0]"
   ]
  },
  {
   "cell_type": "markdown",
   "metadata": {},
   "source": [
    "## y=mx+c\n",
    "c = y-mx\n",
    "( x , y )\n",
    "\n",
    "( 1 , WCSS[0] )"
   ]
  },
  {
   "cell_type": "code",
   "execution_count": 18,
   "metadata": {},
   "outputs": [
    {
     "name": "stdout",
     "output_type": "stream",
     "text": [
      "97051334.31929784\n",
      "16.388228798961077\n"
     ]
    }
   ],
   "source": [
    "c = dc.WCSS[0]-m*1\n",
    "print(c)\n",
    "print((m+dc.WCSS[0]+c)/math.sqrt(m**2+1))"
   ]
  },
  {
   "cell_type": "markdown",
   "metadata": {},
   "source": [
    "y=mx+c\n",
    "\n",
    "mx-y+c=0\n",
    "\n",
    "Ax+By+C=0\n",
    "\n",
    "P(x1,y1)\n",
    "\n",
    "d = |A*x1+B*y1+C|/sqrt(A^2+B^2)"
   ]
  },
  {
   "cell_type": "code",
   "execution_count": 32,
   "metadata": {},
   "outputs": [
    {
     "name": "stdout",
     "output_type": "stream",
     "text": [
      "2\n"
     ]
    }
   ],
   "source": [
    "A=m\n",
    "B=-1\n",
    "maxD = 0\n",
    "K = 0\n",
    "for x1,y1 in enumerate(dc.WCSS,1):\n",
    "    d = abs(A*x1+B*y1+c)/math.sqrt(A**2+B**2)\n",
    "    if d > maxD:\n",
    "        maxD = d\n",
    "        K=x1\n",
    "print(K)"
   ]
  },
  {
   "cell_type": "code",
   "execution_count": 33,
   "metadata": {},
   "outputs": [],
   "source": [
    "from kneed import DataGenerator, KneeLocator\n",
    "a = KneeLocator(np.arange(1,10), dc.WCSS, direction='decreasing')"
   ]
  },
  {
   "cell_type": "code",
   "execution_count": 34,
   "metadata": {},
   "outputs": [
    {
     "data": {
      "image/png": "[encoded data removed]",
      "text/plain": [
       "<Figure size 576x576 with 1 Axes>"
      ]
     },
     "metadata": {},
     "output_type": "display_data"
    }
   ],
   "source": [
    "a.plot_knee()"
   ]
  },
  {
   "cell_type": "code",
   "execution_count": 35,
   "metadata": {},
   "outputs": [
    {
     "data": {
      "text/plain": [
       "(2, 0.125, 3)"
      ]
     },
     "execution_count": 35,
     "metadata": {},
     "output_type": "execute_result"
    }
   ],
   "source": [
    "a.find_knee()"
   ]
  },
  {
   "cell_type": "code",
   "execution_count": 36,
   "metadata": {},
   "outputs": [],
   "source": [
    "secondDerivative = np.zeros(10)\n",
    "for i in range(1,9):\n",
    "    A = dc.WCSS[i+1] if i+1 < 9 else 0\n",
    "    B = dc.WCSS[i-1] if i-1 > 0 else 0\n",
    "    secondDerivative[i] = A + B - 2 * dc.WCSS[i]"
   ]
  },
  {
   "cell_type": "code",
   "execution_count": 37,
   "metadata": {},
   "outputs": [
    {
     "data": {
      "text/plain": [
       "array([        0.        , -18663930.30991414,   3589636.58192461,\n",
       "         1324600.4696952 ,    213321.80129439,    100667.6528653 ,\n",
       "          307140.38994818,     51915.04874655,  -1811666.46378071,\n",
       "               0.        ])"
      ]
     },
     "execution_count": 37,
     "metadata": {},
     "output_type": "execute_result"
    }
   ],
   "source": [
    "secondDerivative"
   ]
  },
  {
   "cell_type": "code",
   "execution_count": 38,
   "metadata": {},
   "outputs": [
    {
     "data": {
      "text/plain": [
       "3589636.5819246117"
      ]
     },
     "execution_count": 38,
     "metadata": {},
     "output_type": "execute_result"
    }
   ],
   "source": [
    "max(secondDerivative)"
   ]
  },
  {
   "cell_type": "code",
   "execution_count": null,
   "metadata": {},
   "outputs": [],
   "source": []
  }
 ],
 "metadata": {
  "kernelspec": {
   "display_name": "Python 3",
   "language": "python",
   "name": "python3"
  },
  "language_info": {
   "codemirror_mode": {
    "name": "ipython",
    "version": 3
   },
   "file_extension": ".py",
   "mimetype": "text/x-python",
   "name": "python",
   "nbconvert_exporter": "python",
   "pygments_lexer": "ipython3",
   "version": "3.6.5"
  }
 },
 "nbformat": 4,
 "nbformat_minor": 2
}
