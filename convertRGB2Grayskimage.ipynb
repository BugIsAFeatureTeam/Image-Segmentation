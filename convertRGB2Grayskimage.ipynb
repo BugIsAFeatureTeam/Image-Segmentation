{
 "cells": [
  {
   "cell_type": "code",
   "execution_count": 1,
   "metadata": {},
   "outputs": [],
   "source": [
    "import numpy as np\n",
    "import matplotlib.pyplot as plt\n",
    "from scipy import ndimage as ndi\n",
    "import skimage\n",
    "from skimage.io import imread , imshow\n",
    "from skimage import color\n",
    "from skimage import data\n",
    "from skimage import measure\n",
    "%matplotlib inline"
   ]
  },
  {
   "cell_type": "code",
   "execution_count": 2,
   "metadata": {},
   "outputs": [
    {
     "name": "stderr",
     "output_type": "stream",
     "text": [
      "C:\\Users\\Admin\\Anaconda3\\lib\\site-packages\\skimage\\io\\_plugins\\matplotlib_plugin.py:51: FutureWarning: Conversion of the second argument of issubdtype from `float` to `np.floating` is deprecated. In future, it will be treated as `np.float64 == np.dtype(float).type`.\n",
      "  out_of_range_float = (np.issubdtype(image.dtype, np.float) and\n",
      "C:\\Users\\Admin\\Anaconda3\\lib\\site-packages\\matplotlib\\axes\\_base.py:1400: MatplotlibDeprecationWarning: The 'box-forced' keyword argument is deprecated since 2.2.\n",
      "  \" since 2.2.\", cbook.mplDeprecation)\n"
     ]
    },
    {
     "data": {
      "text/plain": [
       "array([[0.99719451, 1.        , 1.        , ..., 1.        , 1.        ,\n",
       "        1.        ],\n",
       "       [1.        , 1.        , 1.        , ..., 1.        , 1.        ,\n",
       "        1.        ],\n",
       "       [1.        , 1.        , 1.        , ..., 1.        , 1.        ,\n",
       "        1.        ],\n",
       "       ...,\n",
       "       [1.        , 1.        , 1.        , ..., 1.        , 1.        ,\n",
       "        1.        ],\n",
       "       [1.        , 1.        , 1.        , ..., 1.        , 1.        ,\n",
       "        1.        ],\n",
       "       [1.        , 1.        , 1.        , ..., 1.        , 1.        ,\n",
       "        1.        ]])"
      ]
     },
     "execution_count": 2,
     "metadata": {},
     "output_type": "execute_result"
    },
    {
     "data": {
      "image/png": "[encoded data removed]",
      "text/plain": [
       "<Figure size 432x288 with 1 Axes>"
      ]
     },
     "metadata": {},
     "output_type": "display_data"
    }
   ],
   "source": [
    "img = color.rgb2grey(imread('segmentation_WBC-master/Dataset 1/281.bmp'))\n",
    "invert_img = 1-img\n",
    "imshow(invert_img)\n",
    "img"
   ]
  },
  {
   "cell_type": "code",
   "execution_count": 3,
   "metadata": {},
   "outputs": [
    {
     "name": "stderr",
     "output_type": "stream",
     "text": [
      "C:\\Users\\Admin\\Anaconda3\\lib\\site-packages\\skimage\\io\\_plugins\\matplotlib_plugin.py:51: FutureWarning: Conversion of the second argument of issubdtype from `float` to `np.floating` is deprecated. In future, it will be treated as `np.float64 == np.dtype(float).type`.\n",
      "  out_of_range_float = (np.issubdtype(image.dtype, np.float) and\n",
      "C:\\Users\\Admin\\Anaconda3\\lib\\site-packages\\matplotlib\\axes\\_base.py:1400: MatplotlibDeprecationWarning: The 'box-forced' keyword argument is deprecated since 2.2.\n",
      "  \" since 2.2.\", cbook.mplDeprecation)\n"
     ]
    },
    {
     "data": {
      "text/plain": [
       "<matplotlib.image.AxesImage at 0x3d97f796d8>"
      ]
     },
     "execution_count": 3,
     "metadata": {},
     "output_type": "execute_result"
    },
    {
     "data": {
      "image/png": "[encoded data removed]",
      "text/plain": [
       "<Figure size 432x288 with 1 Axes>"
      ]
     },
     "metadata": {},
     "output_type": "display_data"
    }
   ],
   "source": [
    "from skimage import exposure\n",
    "\n",
    "# Contrast stretching\n",
    "p2 = np.percentile(invert_img, 2)\n",
    "p98 = np.percentile(invert_img, 98)\n",
    "img_rescale = exposure.rescale_intensity(invert_img, in_range=(p2, p98))\n",
    "\n",
    "# Equalization\n",
    "img_eq = exposure.equalize_hist(invert_img)\n",
    "imshow(img_rescale)"
   ]
  },
  {
   "cell_type": "code",
   "execution_count": 4,
   "metadata": {},
   "outputs": [
    {
     "data": {
      "text/plain": [
       "[array([[55.13634216, 76.        ],\n",
       "        [55.60834809, 75.        ],\n",
       "        [55.68832556, 74.        ],\n",
       "        [55.47803022, 73.        ],\n",
       "        [55.32393243, 72.        ],\n",
       "        [55.41867184, 71.        ],\n",
       "        [55.50111713, 70.        ],\n",
       "        [55.33678627, 69.        ],\n",
       "        [55.        , 68.49213854],\n",
       "        [54.60356655, 68.        ],\n",
       "        [54.        , 67.37816777],\n",
       "        [53.6381419 , 67.        ],\n",
       "        [53.        , 66.46682313],\n",
       "        [52.46457523, 66.        ],\n",
       "        [52.        , 65.63966076],\n",
       "        [51.        , 65.05187277],\n",
       "        [50.91920575, 65.        ],\n",
       "        [50.        , 64.31391486],\n",
       "        [49.67178804, 64.        ],\n",
       "        [49.        , 63.46607092],\n",
       "        [48.        , 63.10536841],\n",
       "        [47.52207231, 63.        ],\n",
       "        [47.        , 62.88285828],\n",
       "        [46.        , 62.59159034],\n",
       "        [45.        , 62.26240942],\n",
       "        [44.43337608, 62.        ],\n",
       "        [44.        , 61.82553922],\n",
       "        [43.        , 61.14792586],\n",
       "        [42.87665792, 61.        ],\n",
       "        [42.28422238, 60.        ],\n",
       "        [42.        , 59.44429982],\n",
       "        [41.59958276, 59.        ],\n",
       "        [41.11148769, 58.        ],\n",
       "        [41.14399781, 57.        ],\n",
       "        [41.24061267, 56.        ],\n",
       "        [41.22503676, 55.        ],\n",
       "        [41.63998623, 54.        ],\n",
       "        [42.        , 53.46754117],\n",
       "        [42.53507409, 53.        ],\n",
       "        [43.        , 52.60308223],\n",
       "        [43.92559418, 52.        ],\n",
       "        [44.        , 51.9566972 ],\n",
       "        [45.        , 51.63947651],\n",
       "        [46.        , 51.52711469],\n",
       "        [47.        , 51.36786985],\n",
       "        [47.9697821 , 51.        ],\n",
       "        [48.        , 50.97936072],\n",
       "        [49.        , 50.11573114],\n",
       "        [49.12012048, 50.        ],\n",
       "        [49.50159525, 49.        ],\n",
       "        [49.40877817, 48.        ],\n",
       "        [49.53979373, 47.        ],\n",
       "        [49.61679957, 46.        ],\n",
       "        [49.42262075, 45.        ],\n",
       "        [49.14121882, 44.        ],\n",
       "        [49.        , 43.69106863],\n",
       "        [48.48469848, 43.        ],\n",
       "        [48.        , 42.43269281],\n",
       "        [47.20713541, 42.        ],\n",
       "        [47.        , 41.93690012],\n",
       "        [46.        , 41.56814406],\n",
       "        [45.16598501, 41.        ],\n",
       "        [45.        , 40.88542042],\n",
       "        [44.        , 40.38095433],\n",
       "        [43.        , 40.27554653],\n",
       "        [42.        , 40.12081769],\n",
       "        [41.17623243, 40.        ],\n",
       "        [41.        , 39.97647951],\n",
       "        [40.55788319, 40.        ],\n",
       "        [40.        , 40.03708848],\n",
       "        [39.        , 40.30038451],\n",
       "        [38.        , 40.5370356 ],\n",
       "        [37.09485991, 41.        ],\n",
       "        [37.        , 41.0740931 ],\n",
       "        [36.        , 41.83858419],\n",
       "        [35.76287723, 42.        ],\n",
       "        [35.        , 42.77644041],\n",
       "        [34.83448989, 43.        ],\n",
       "        [34.65224611, 44.        ],\n",
       "        [34.59055481, 45.        ],\n",
       "        [34.45103314, 46.        ],\n",
       "        [34.4009984 , 47.        ],\n",
       "        [34.44377905, 48.        ],\n",
       "        [34.30388598, 49.        ],\n",
       "        [34.39231985, 50.        ],\n",
       "        [34.83564714, 51.        ],\n",
       "        [35.        , 51.22795104],\n",
       "        [35.53901753, 52.        ],\n",
       "        [36.        , 52.56673021],\n",
       "        [36.47007865, 53.        ],\n",
       "        [37.        , 53.53115999],\n",
       "        [37.6823399 , 54.        ],\n",
       "        [38.        , 54.36924976],\n",
       "        [38.65160412, 55.        ],\n",
       "        [39.        , 55.51042146],\n",
       "        [39.65388696, 56.        ],\n",
       "        [39.98996565, 57.        ],\n",
       "        [39.        , 57.65503277],\n",
       "        [38.18079415, 58.        ],\n",
       "        [38.        , 58.06135041],\n",
       "        [37.        , 58.71798057],\n",
       "        [36.19513877, 59.        ],\n",
       "        [36.        , 59.06087449],\n",
       "        [35.        , 59.30579394],\n",
       "        [34.        , 59.67941262],\n",
       "        [33.14349436, 60.        ],\n",
       "        [33.        , 60.05543527],\n",
       "        [32.        , 60.49263474],\n",
       "        [31.30512867, 61.        ],\n",
       "        [31.        , 61.38709848],\n",
       "        [30.66084449, 62.        ],\n",
       "        [30.36641986, 63.        ],\n",
       "        [30.3339908 , 64.        ],\n",
       "        [30.20808343, 65.        ],\n",
       "        [30.        , 65.99969016],\n",
       "        [29.99992597, 66.        ],\n",
       "        [30.        , 66.00122536],\n",
       "        [30.06115818, 67.        ],\n",
       "        [30.26117008, 68.        ],\n",
       "        [30.42235991, 69.        ],\n",
       "        [30.74827549, 70.        ],\n",
       "        [31.        , 70.66793049],\n",
       "        [31.12816637, 71.        ],\n",
       "        [31.56131131, 72.        ],\n",
       "        [32.        , 72.56426978],\n",
       "        [32.44343396, 73.        ],\n",
       "        [33.        , 73.98478092],\n",
       "        [33.00897308, 74.        ],\n",
       "        [33.49581938, 75.        ],\n",
       "        [34.        , 75.38269735],\n",
       "        [35.        , 75.81353504],\n",
       "        [35.32503288, 76.        ],\n",
       "        [36.        , 76.28681744],\n",
       "        [37.        , 76.74931256],\n",
       "        [37.44365772, 77.        ],\n",
       "        [38.        , 77.23745506],\n",
       "        [39.        , 77.87187526],\n",
       "        [39.18078738, 78.        ],\n",
       "        [40.        , 78.56369534],\n",
       "        [41.        , 78.99693998],\n",
       "        [41.0066117 , 79.        ],\n",
       "        [42.        , 79.43621986],\n",
       "        [43.        , 79.5292624 ],\n",
       "        [44.        , 79.69556424],\n",
       "        [45.        , 79.90061525],\n",
       "        [45.8886544 , 80.        ],\n",
       "        [46.        , 80.0145594 ],\n",
       "        [47.        , 80.09559358],\n",
       "        [47.61811352, 80.        ],\n",
       "        [48.        , 79.93689386],\n",
       "        [49.        , 79.56661232],\n",
       "        [50.        , 79.27933412],\n",
       "        [50.8591948 , 79.        ],\n",
       "        [51.        , 78.93535228],\n",
       "        [52.        , 78.52102574],\n",
       "        [53.        , 78.0890836 ],\n",
       "        [53.16579013, 78.        ],\n",
       "        [54.        , 77.41549725],\n",
       "        [54.42012246, 77.        ],\n",
       "        [55.        , 76.17786948],\n",
       "        [55.13634216, 76.        ]]), array([[88.06533153, 62.        ],\n",
       "        [88.42065112, 61.        ],\n",
       "        [88.70112247, 60.        ],\n",
       "        [88.77280559, 59.        ],\n",
       "        [88.51370455, 58.        ],\n",
       "        [88.03410966, 57.        ],\n",
       "        [88.        , 56.92895577],\n",
       "        [87.60807468, 56.        ],\n",
       "        [87.47832752, 55.        ],\n",
       "        [87.2979355 , 54.        ],\n",
       "        [87.        , 53.37240558],\n",
       "        [86.81750476, 53.        ],\n",
       "        [86.        , 52.13530905],\n",
       "        [85.8271887 , 52.        ],\n",
       "        [85.        , 51.41021054],\n",
       "        [84.49510401, 51.        ],\n",
       "        [84.        , 50.60818029],\n",
       "        [83.34764588, 50.        ],\n",
       "        [83.        , 49.77861478],\n",
       "        [82.        , 49.17184128],\n",
       "        [81.64392878, 49.        ],\n",
       "        [81.        , 48.74253079],\n",
       "        [80.        , 48.61456704],\n",
       "        [79.        , 48.58417222],\n",
       "        [78.        , 48.52383296],\n",
       "        [77.        , 48.39864015],\n",
       "        [76.        , 48.14431849],\n",
       "        [75.        , 48.05120242],\n",
       "        [74.60820896, 48.        ],\n",
       "        [74.        , 47.93069676],\n",
       "        [73.        , 47.85279661],\n",
       "        [72.        , 47.87042572],\n",
       "        [71.        , 47.92554334],\n",
       "        [70.57571468, 48.        ],\n",
       "        [70.        , 48.14364169],\n",
       "        [69.        , 48.66054324],\n",
       "        [68.45449722, 49.        ],\n",
       "        [68.        , 49.47310454],\n",
       "        [67.        , 49.95284304],\n",
       "        [66.88775695, 50.        ],\n",
       "        [66.        , 50.36205435],\n",
       "        [65.        , 50.62721494],\n",
       "        [64.28464276, 51.        ],\n",
       "        [64.50133476, 52.        ],\n",
       "        [64.93362934, 53.        ],\n",
       "        [65.        , 53.10100817],\n",
       "        [65.64615947, 54.        ],\n",
       "        [66.        , 54.55573322],\n",
       "        [66.23390695, 55.        ],\n",
       "        [66.54564415, 56.        ],\n",
       "        [66.66104955, 57.        ],\n",
       "        [66.96448151, 58.        ],\n",
       "        [67.        , 58.06424985],\n",
       "        [67.46352564, 59.        ],\n",
       "        [68.        , 59.82700764],\n",
       "        [68.13125585, 60.        ],\n",
       "        [68.80240882, 61.        ],\n",
       "        [69.        , 61.36667035],\n",
       "        [69.3948485 , 62.        ],\n",
       "        [69.80569984, 63.        ],\n",
       "        [69.98442996, 64.        ],\n",
       "        [70.        , 64.16033307],\n",
       "        [70.16111831, 65.        ],\n",
       "        [70.50158825, 66.        ],\n",
       "        [70.98506506, 67.        ],\n",
       "        [71.        , 67.01245119],\n",
       "        [72.        , 67.67151307],\n",
       "        [72.85759646, 68.        ],\n",
       "        [73.        , 68.0338334 ],\n",
       "        [74.        , 68.2070114 ],\n",
       "        [75.        , 68.34723762],\n",
       "        [76.        , 68.49465624],\n",
       "        [77.        , 68.62494535],\n",
       "        [78.        , 68.76839115],\n",
       "        [79.        , 68.8438732 ],\n",
       "        [80.        , 68.87739942],\n",
       "        [81.        , 68.80138111],\n",
       "        [82.        , 68.3815305 ],\n",
       "        [82.52553844, 68.        ],\n",
       "        [83.        , 67.75253651],\n",
       "        [84.        , 67.24484838],\n",
       "        [84.36588239, 67.        ],\n",
       "        [85.        , 66.48707318],\n",
       "        [85.46362224, 66.        ],\n",
       "        [86.        , 65.38543404],\n",
       "        [86.33569489, 65.        ],\n",
       "        [86.81426493, 64.        ],\n",
       "        [87.        , 63.61332983],\n",
       "        [87.36843525, 63.        ],\n",
       "        [88.        , 62.11165449],\n",
       "        [88.06533153, 62.        ]]), array([[108.0155181 ,  38.        ],\n",
       "        [108.1696334 ,  37.        ],\n",
       "        [108.00315113,  36.        ],\n",
       "        [108.        ,  35.97985161],\n",
       "        [107.93433396,  36.        ],\n",
       "        [107.        ,  36.42183529],\n",
       "        [106.53870992,  37.        ],\n",
       "        [106.        ,  37.53870992],\n",
       "        [105.        ,  37.2436589 ],\n",
       "        [104.        ,  37.74169259],\n",
       "        [103.74992459,  38.        ],\n",
       "        [103.        ,  38.52550707],\n",
       "        [102.15151086,  39.        ],\n",
       "        [102.        ,  39.17055716],\n",
       "        [101.55861542,  40.        ],\n",
       "        [102.        ,  40.92332134],\n",
       "        [102.06666629,  41.        ],\n",
       "        [103.        ,  41.36848487],\n",
       "        [104.        ,  41.51644957],\n",
       "        [105.        ,  41.27269299],\n",
       "        [105.99407799,  41.        ],\n",
       "        [106.        ,  40.9938292 ],\n",
       "        [106.74373282,  40.        ],\n",
       "        [107.        ,  39.38489452],\n",
       "        [107.16010292,  39.        ],\n",
       "        [108.        ,  38.02031164],\n",
       "        [108.0155181 ,  38.        ]]), array([[110.55317572,  33.        ],\n",
       "        [110.46405042,  32.        ],\n",
       "        [110.08232493,  31.        ],\n",
       "        [110.        ,  30.90136752],\n",
       "        [109.        ,  30.34803023],\n",
       "        [108.        ,  30.31784262],\n",
       "        [107.        ,  30.98568376],\n",
       "        [106.9867021 ,  31.        ],\n",
       "        [106.68320525,  32.        ],\n",
       "        [106.63809622,  33.        ],\n",
       "        [106.8785734 ,  34.        ],\n",
       "        [107.        ,  34.4248715 ],\n",
       "        [108.        ,  34.66318544],\n",
       "        [109.        ,  34.36339711],\n",
       "        [109.82580455,  34.        ],\n",
       "        [110.        ,  33.94213106],\n",
       "        [110.55317572,  33.        ]])]"
      ]
     },
     "execution_count": 4,
     "metadata": {},
     "output_type": "execute_result"
    }
   ],
   "source": [
    "contours = measure.find_contours(invert_img, 0.7)\n",
    "contours"
   ]
  },
  {
   "cell_type": "code",
   "execution_count": 5,
   "metadata": {
    "scrolled": true
   },
   "outputs": [
    {
     "name": "stdout",
     "output_type": "stream",
     "text": [
      "(161, 2)\n",
      "(91, 2)\n",
      "(27, 2)\n",
      "(17, 2)\n"
     ]
    },
    {
     "data": {
      "image/png": "[encoded data removed]",
      "text/plain": [
       "<Figure size 432x288 with 1 Axes>"
      ]
     },
     "metadata": {},
     "output_type": "display_data"
    },
    {
     "data": {
      "text/plain": [
       "array([[0.00280549, 0.        , 0.        , ..., 0.        , 0.        ,\n",
       "        0.        ],\n",
       "       [0.        , 0.        , 0.        , ..., 0.        , 0.        ,\n",
       "        0.        ],\n",
       "       [0.        , 0.        , 0.        , ..., 0.        , 0.        ,\n",
       "        0.        ],\n",
       "       ...,\n",
       "       [0.        , 0.        , 0.        , ..., 0.        , 0.        ,\n",
       "        0.        ],\n",
       "       [0.        , 0.        , 0.        , ..., 0.        , 0.        ,\n",
       "        0.        ],\n",
       "       [0.        , 0.        , 0.        , ..., 0.        , 0.        ,\n",
       "        0.        ]])"
      ]
     },
     "execution_count": 5,
     "metadata": {},
     "output_type": "execute_result"
    }
   ],
   "source": [
    "# Display the image and plot all contours found\n",
    "fig, ax = plt.subplots()\n",
    "ax.imshow(invert_img, cmap=plt.cm.gray)\n",
    "\n",
    "for n, contour in enumerate(contours):\n",
    "    ax.plot(contour[:, 1], contour[:, 0], linewidth=2)\n",
    "    print(contour.shape)\n",
    "ax.axis('image')\n",
    "ax.set_xticks([])\n",
    "ax.set_yticks([])\n",
    "plt.tight_layout()\n",
    "plt.savefig('c_out.png',bbox_inches='tight',pad_inches=0)\n",
    "plt.show()\n",
    "invert_img\n"
   ]
  },
  {
   "cell_type": "code",
   "execution_count": 6,
   "metadata": {},
   "outputs": [
    {
     "name": "stderr",
     "output_type": "stream",
     "text": [
      "C:\\Users\\Admin\\Anaconda3\\lib\\site-packages\\skimage\\io\\_plugins\\matplotlib_plugin.py:51: FutureWarning: Conversion of the second argument of issubdtype from `float` to `np.floating` is deprecated. In future, it will be treated as `np.float64 == np.dtype(float).type`.\n",
      "  out_of_range_float = (np.issubdtype(image.dtype, np.float) and\n",
      "C:\\Users\\Admin\\Anaconda3\\lib\\site-packages\\skimage\\io\\_plugins\\matplotlib_plugin.py:77: UserWarning: Float image out of standard range; displaying image with stretched contrast.\n",
      "  warn(\"Float image out of standard range; displaying \"\n",
      "C:\\Users\\Admin\\Anaconda3\\lib\\site-packages\\matplotlib\\axes\\_base.py:1400: MatplotlibDeprecationWarning: The 'box-forced' keyword argument is deprecated since 2.2.\n",
      "  \" since 2.2.\", cbook.mplDeprecation)\n"
     ]
    },
    {
     "data": {
      "text/plain": [
       "array([[0.00280549, 0.        , 0.        , ..., 0.        , 0.        ,\n",
       "        0.        ],\n",
       "       [0.        , 0.        , 0.        , ..., 0.        , 0.        ,\n",
       "        0.        ],\n",
       "       [0.        , 0.        , 0.        , ..., 0.        , 0.        ,\n",
       "        0.        ],\n",
       "       ...,\n",
       "       [0.        , 0.        , 0.        , ..., 0.        , 0.        ,\n",
       "        0.        ],\n",
       "       [0.        , 0.        , 0.        , ..., 0.        , 0.        ,\n",
       "        0.        ],\n",
       "       [0.        , 0.        , 0.        , ..., 0.        , 0.        ,\n",
       "        0.        ]])"
      ]
     },
     "execution_count": 6,
     "metadata": {},
     "output_type": "execute_result"
    },
    {
     "data": {
      "image/png": "[encoded data removed]",
      "text/plain": [
       "<Figure size 432x288 with 2 Axes>"
      ]
     },
     "metadata": {},
     "output_type": "display_data"
    }
   ],
   "source": [
    "from skimage.draw import polygon\n",
    "for n, contour in enumerate(contours):\n",
    "    pr = np.array([p[0] for p in contour])\n",
    "    pc = np.array([p[1] for p in contour])\n",
    "    row = list(map(np.uint8,contour[:,0]))\n",
    "    col = list(map(np.uint8,contour[:,1]))\n",
    "    rr, cc = polygon(pr,pc)\n",
    "    #print(pr,',',pc)\n",
    "    invert_img[rr,cc] = 255\n",
    "imshow(invert_img,cmap='gray')\n",
    "invert_img"
   ]
  },
  {
   "cell_type": "code",
   "execution_count": 7,
   "metadata": {},
   "outputs": [
    {
     "name": "stderr",
     "output_type": "stream",
     "text": [
      "C:\\Users\\Admin\\Anaconda3\\lib\\site-packages\\skimage\\io\\_plugins\\matplotlib_plugin.py:51: FutureWarning: Conversion of the second argument of issubdtype from `float` to `np.floating` is deprecated. In future, it will be treated as `np.float64 == np.dtype(float).type`.\n",
      "  out_of_range_float = (np.issubdtype(image.dtype, np.float) and\n",
      "C:\\Users\\Admin\\Anaconda3\\lib\\site-packages\\matplotlib\\axes\\_base.py:1400: MatplotlibDeprecationWarning: The 'box-forced' keyword argument is deprecated since 2.2.\n",
      "  \" since 2.2.\", cbook.mplDeprecation)\n"
     ]
    },
    {
     "data": {
      "text/plain": [
       "<matplotlib.image.AxesImage at 0x3d98079d68>"
      ]
     },
     "execution_count": 7,
     "metadata": {},
     "output_type": "execute_result"
    },
    {
     "data": {
      "image/png": "[encoded data removed]",
      "text/plain": [
       "<Figure size 432x288 with 1 Axes>"
      ]
     },
     "metadata": {},
     "output_type": "display_data"
    }
   ],
   "source": [
    "from skimage.filters import threshold_mean\n",
    "thresh = threshold_mean(invert_img)\n",
    "binary = invert_img > thresh\n",
    "imshow(binary)"
   ]
  },
  {
   "cell_type": "code",
   "execution_count": 8,
   "metadata": {},
   "outputs": [],
   "source": [
    "from skimage.measure import label, regionprops\n",
    "label_img = label(binary)\n",
    "props = regionprops(label_img)\n"
   ]
  },
  {
   "cell_type": "code",
   "execution_count": 9,
   "metadata": {},
   "outputs": [
    {
     "name": "stderr",
     "output_type": "stream",
     "text": [
      "C:\\Users\\Admin\\Anaconda3\\lib\\site-packages\\skimage\\io\\_plugins\\matplotlib_plugin.py:51: FutureWarning: Conversion of the second argument of issubdtype from `float` to `np.floating` is deprecated. In future, it will be treated as `np.float64 == np.dtype(float).type`.\n",
      "  out_of_range_float = (np.issubdtype(image.dtype, np.float) and\n",
      "C:\\Users\\Admin\\Anaconda3\\lib\\site-packages\\skimage\\io\\_plugins\\matplotlib_plugin.py:74: UserWarning: Low image data range; displaying image with stretched contrast.\n",
      "  warn(\"Low image data range; displaying image with \"\n",
      "C:\\Users\\Admin\\Anaconda3\\lib\\site-packages\\matplotlib\\axes\\_base.py:1400: MatplotlibDeprecationWarning: The 'box-forced' keyword argument is deprecated since 2.2.\n",
      "  \" since 2.2.\", cbook.mplDeprecation)\n"
     ]
    },
    {
     "data": {
      "text/plain": [
       "<matplotlib.image.AxesImage at 0x3d980d1d68>"
      ]
     },
     "execution_count": 9,
     "metadata": {},
     "output_type": "execute_result"
    },
    {
     "data": {
      "image/png": "[encoded data removed]",
      "text/plain": [
       "<Figure size 432x288 with 2 Axes>"
      ]
     },
     "metadata": {},
     "output_type": "display_data"
    }
   ],
   "source": [
    "imshow(label_img)"
   ]
  },
  {
   "cell_type": "code",
   "execution_count": 12,
   "metadata": {},
   "outputs": [
    {
     "name": "stdout",
     "output_type": "stream",
     "text": [
      "573\n",
      "375\n",
      "21\n",
      "15\n"
     ]
    }
   ],
   "source": [
    "for region in props:\n",
    "    print(region.area)\n",
    "    #print(region.convex_area)"
   ]
  },
  {
   "cell_type": "code",
   "execution_count": 14,
   "metadata": {},
   "outputs": [
    {
     "data": {
      "text/plain": [
       "4"
      ]
     },
     "execution_count": 14,
     "metadata": {},
     "output_type": "execute_result"
    }
   ],
   "source": [
    "len(props)"
   ]
  },
  {
   "cell_type": "code",
   "execution_count": null,
   "metadata": {},
   "outputs": [],
   "source": []
  }
 ],
 "metadata": {
  "kernelspec": {
   "display_name": "Python 3",
   "language": "python",
   "name": "python3"
  },
  "language_info": {
   "codemirror_mode": {
    "name": "ipython",
    "version": 3
   },
   "file_extension": ".py",
   "mimetype": "text/x-python",
   "name": "python",
   "nbconvert_exporter": "python",
   "pygments_lexer": "ipython3",
   "version": "3.6.5"
  }
 },
 "nbformat": 4,
 "nbformat_minor": 2
}
