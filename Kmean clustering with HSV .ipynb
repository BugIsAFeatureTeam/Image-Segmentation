{
 "cells": [
  {
   "cell_type": "code",
   "execution_count": 1,
   "metadata": {},
   "outputs": [
    {
     "name": "stdout",
     "output_type": "stream",
     "text": [
      "[[0.91824869 0.67132992 0.5678064 ]\n",
      " [0.16548459 0.25891769 0.99713408]\n",
      " [0.89210619 0.42992394 0.51053714]\n",
      " [0.0449572  0.44711575 0.66897105]]\n"
     ]
    },
    {
     "data": {
      "text/plain": [
       "120"
      ]
     },
     "execution_count": 1,
     "metadata": {},
     "output_type": "execute_result"
    }
   ],
   "source": [
    "import cv2\n",
    "import numpy as np\n",
    "from matplotlib import pyplot as plt\n",
    "import pandas as pd\n",
    "from mpl_toolkits.mplot3d import Axes3D\n",
    "from sklearn.cluster import KMeans\n",
    "from skimage.io import imread , imshow\n",
    "from skimage import color\n",
    "from skimage import measure\n",
    "\n",
    "class DominantColors:\n",
    "\n",
    "    CLUSTERS = None\n",
    "    IMAGE = None\n",
    "    COLORS = None\n",
    "    LABELS = None\n",
    "    ORIG = None\n",
    "    \n",
    "    def __init__(self, image, clusters):\n",
    "        self.CLUSTERS = clusters\n",
    "        self.IMAGE = image\n",
    "        \n",
    "    def dominantColors(self):\n",
    "    \n",
    "        #read image\n",
    "        img = imread(self.IMAGE)\n",
    "        self.ORIG = img.copy()\n",
    "        \n",
    "        #convert to rgb from bgr\n",
    "        img = color.rgb2hsv(img)\n",
    "                \n",
    "        #reshaping to a list of pixels\n",
    "        img = img.reshape((img.shape[0] * img.shape[1], 3))\n",
    "        \n",
    "        #save image after operations\n",
    "        self.IMAGE = img\n",
    "        \n",
    "        #using k-means to cluster pixels\n",
    "        kmeans = KMeans(n_clusters = self.CLUSTERS, init = 'k-means++', random_state = 0)\n",
    "        kmeans.fit(img)\n",
    "        \n",
    "        #the cluster centers are our dominant colors.\n",
    "        self.COLORS = kmeans.cluster_centers_\n",
    "        \n",
    "        #save labels\n",
    "        self.LABELS = kmeans.labels_\n",
    "        \n",
    "        #returning after converting to integer from float\n",
    "        return self.COLORS\n",
    "    \n",
    "    def show(self):\n",
    "        cv2.imshow('img',self.ORIG)\n",
    "        \n",
    "\n",
    "img = 'segmentation_WBC-master/Dataset 1/200.bmp'\n",
    "clusters = 4\n",
    "dc = DominantColors(img, clusters) \n",
    "\n",
    "#cv2.imshow('image',img)\n",
    "colors = dc.dominantColors()\n",
    "#cv2.imshow('Test',dc.mark_label(212,181,213))\n",
    "\n",
    "print(colors)\n",
    "dc.ORIG.shape[1]"
   ]
  },
  {
   "cell_type": "code",
   "execution_count": 2,
   "metadata": {},
   "outputs": [],
   "source": [
    "dc.LABELS\n",
    "new = np.reshape(dc.LABELS, (-1, dc.ORIG.shape[0]))"
   ]
  },
  {
   "cell_type": "code",
   "execution_count": 3,
   "metadata": {},
   "outputs": [
    {
     "data": {
      "text/plain": [
       "120"
      ]
     },
     "execution_count": 3,
     "metadata": {},
     "output_type": "execute_result"
    }
   ],
   "source": [
    "new\n",
    "new.shape[0]"
   ]
  },
  {
   "cell_type": "code",
   "execution_count": 4,
   "metadata": {},
   "outputs": [],
   "source": [
    "img = cv2.imread(img)\n",
    "gray_img = cv2.cvtColor(img,cv2.COLOR_BGR2GRAY)\n",
    "for i in range(0,dc.ORIG.shape[0]):\n",
    "    for j in range(0,dc.ORIG.shape[1]):\n",
    "        if new[i][j] == 1:\n",
    "            gray_img[i][j] = 0\n",
    "        elif new[i][j] == 2:\n",
    "            gray_img[i][j] = 50\n",
    "        elif new[i][j] == 3:\n",
    "            gray_img[i][j] = 127\n",
    "        else:\n",
    "            gray_img[i][j] = 255"
   ]
  },
  {
   "cell_type": "code",
   "execution_count": 5,
   "metadata": {
    "scrolled": true
   },
   "outputs": [
    {
     "name": "stderr",
     "output_type": "stream",
     "text": [
      "C:\\Users\\Admin\\Anaconda3\\lib\\site-packages\\skimage\\io\\_plugins\\matplotlib_plugin.py:51: FutureWarning: Conversion of the second argument of issubdtype from `float` to `np.floating` is deprecated. In future, it will be treated as `np.float64 == np.dtype(float).type`.\n",
      "  out_of_range_float = (np.issubdtype(image.dtype, np.float) and\n",
      "C:\\Users\\Admin\\Anaconda3\\lib\\site-packages\\matplotlib\\axes\\_base.py:1400: MatplotlibDeprecationWarning: The 'box-forced' keyword argument is deprecated since 2.2.\n",
      "  \" since 2.2.\", cbook.mplDeprecation)\n"
     ]
    },
    {
     "data": {
      "text/plain": [
       "<matplotlib.image.AxesImage at 0xf486b6c0b8>"
      ]
     },
     "execution_count": 5,
     "metadata": {},
     "output_type": "execute_result"
    },
    {
     "data": {
      "image/png": "[encoded data removed]",
      "text/plain": [
       "<Figure size 432x288 with 1 Axes>"
      ]
     },
     "metadata": {},
     "output_type": "display_data"
    }
   ],
   "source": [
    "imshow(gray_img)"
   ]
  },
  {
   "cell_type": "code",
   "execution_count": 6,
   "metadata": {},
   "outputs": [
    {
     "name": "stdout",
     "output_type": "stream",
     "text": [
      "(367, 2)\n"
     ]
    },
    {
     "data": {
      "image/png": "[encoded data removed]",
      "text/plain": [
       "<Figure size 432x288 with 1 Axes>"
      ]
     },
     "metadata": {},
     "output_type": "display_data"
    }
   ],
   "source": [
    "contours = measure.find_contours(gray_img, 0.7)\n",
    "# Display the image and plot all contours found\n",
    "fig, ax = plt.subplots()\n",
    "ax.imshow(gray_img, cmap=plt.cm.gray)\n",
    "\n",
    "for n, contour in enumerate(contours):\n",
    "    ax.plot(contour[:, 1], contour[:, 0], linewidth=2)\n",
    "    print(contour.shape)\n",
    "ax.axis('image')\n",
    "ax.set_xticks([])\n",
    "ax.set_yticks([])\n",
    "plt.tight_layout()\n",
    "plt.savefig('c_out.png',bbox_inches='tight',pad_inches=0)\n",
    "plt.show()"
   ]
  },
  {
   "cell_type": "code",
   "execution_count": null,
   "metadata": {},
   "outputs": [],
   "source": []
  }
 ],
 "metadata": {
  "kernelspec": {
   "display_name": "Python 3",
   "language": "python",
   "name": "python3"
  },
  "language_info": {
   "codemirror_mode": {
    "name": "ipython",
    "version": 3
   },
   "file_extension": ".py",
   "mimetype": "text/x-python",
   "name": "python",
   "nbconvert_exporter": "python",
   "pygments_lexer": "ipython3",
   "version": "3.6.5"
  }
 },
 "nbformat": 4,
 "nbformat_minor": 2
}
