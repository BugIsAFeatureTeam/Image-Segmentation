{
 "cells": [
  {
   "cell_type": "code",
   "execution_count": 1,
   "metadata": {},
   "outputs": [],
   "source": [
    "import numpy as np\n",
    "import matplotlib.pyplot as plt\n",
    "from scipy import ndimage as ndi\n",
    "import skimage\n",
    "from skimage.io import imread , imshow\n",
    "from skimage import color\n",
    "from skimage import data\n",
    "from skimage import measure\n",
    "%matplotlib inline"
   ]
  },
  {
   "cell_type": "code",
   "execution_count": 2,
   "metadata": {},
   "outputs": [
    {
     "name": "stderr",
     "output_type": "stream",
     "text": [
      "C:\\Users\\58011256\\AppData\\Local\\Continuum\\anaconda3\\lib\\site-packages\\skimage\\io\\_plugins\\matplotlib_plugin.py:51: FutureWarning: Conversion of the second argument of issubdtype from `float` to `np.floating` is deprecated. In future, it will be treated as `np.float64 == np.dtype(float).type`.\n",
      "  out_of_range_float = (np.issubdtype(image.dtype, np.float) and\n",
      "C:\\Users\\58011256\\AppData\\Local\\Continuum\\anaconda3\\lib\\site-packages\\matplotlib\\axes\\_base.py:1400: MatplotlibDeprecationWarning: The 'box-forced' keyword argument is deprecated since 2.2.\n",
      "  \" since 2.2.\", cbook.mplDeprecation)\n"
     ]
    },
    {
     "data": {
      "text/plain": [
       "<matplotlib.image.AxesImage at 0x25016a52da0>"
      ]
     },
     "execution_count": 2,
     "metadata": {},
     "output_type": "execute_result"
    },
    {
     "data": {
      "image/png": "[encoded data removed]",
      "text/plain": [
       "<Figure size 432x288 with 1 Axes>"
      ]
     },
     "metadata": {},
     "output_type": "display_data"
    }
   ],
   "source": [
    "img = color.rgb2gray(imread('segmentation_WBC-master/compare/1.png'))\n",
    "imshow(img)"
   ]
  },
  {
   "cell_type": "code",
   "execution_count": 3,
   "metadata": {},
   "outputs": [
    {
     "name": "stderr",
     "output_type": "stream",
     "text": [
      "C:\\Users\\58011256\\AppData\\Local\\Continuum\\anaconda3\\lib\\site-packages\\skimage\\io\\_plugins\\matplotlib_plugin.py:51: FutureWarning: Conversion of the second argument of issubdtype from `float` to `np.floating` is deprecated. In future, it will be treated as `np.float64 == np.dtype(float).type`.\n",
      "  out_of_range_float = (np.issubdtype(image.dtype, np.float) and\n",
      "C:\\Users\\58011256\\AppData\\Local\\Continuum\\anaconda3\\lib\\site-packages\\matplotlib\\axes\\_base.py:1400: MatplotlibDeprecationWarning: The 'box-forced' keyword argument is deprecated since 2.2.\n",
      "  \" since 2.2.\", cbook.mplDeprecation)\n"
     ]
    },
    {
     "data": {
      "text/plain": [
       "array([[0.62675686, 0.61107059, 0.60435843, ..., 0.74621333, 0.75828353,\n",
       "        0.78516902],\n",
       "       [0.62396627, 0.60604   , 0.61024431, ..., 0.71367922, 0.70139373,\n",
       "        0.6977549 ],\n",
       "       [0.62119137, 0.60607059, 0.        , ..., 0.        , 0.68648039,\n",
       "        0.66604627],\n",
       "       ...,\n",
       "       [0.68680314, 0.71033255, 0.        , ..., 0.        , 0.69622196,\n",
       "        0.6561651 ],\n",
       "       [0.78401686, 0.78572118, 0.77592863, ..., 0.70716118, 0.67775294,\n",
       "        0.66933647],\n",
       "       [0.7943898 , 0.80001569, 0.78798314, ..., 0.71138824, 0.67523804,\n",
       "        0.68837882]])"
      ]
     },
     "execution_count": 3,
     "metadata": {},
     "output_type": "execute_result"
    },
    {
     "data": {
      "image/png": "[encoded data removed]",
      "text/plain": [
       "<Figure size 432x288 with 1 Axes>"
      ]
     },
     "metadata": {},
     "output_type": "display_data"
    }
   ],
   "source": [
    "invert_img = 1-img\n",
    "imshow(invert_img)\n",
    "img"
   ]
  },
  {
   "cell_type": "code",
   "execution_count": 4,
   "metadata": {},
   "outputs": [
    {
     "data": {
      "text/plain": [
       "[array([[97.42423143, 97.        ],\n",
       "        [97.40299003, 96.        ],\n",
       "        [97.3879513 , 95.        ],\n",
       "        ...,\n",
       "        [96.        , 97.42694998],\n",
       "        [97.        , 97.43089707],\n",
       "        [97.42423143, 97.        ]]), array([[3.53369837, 0.        ],\n",
       "        [4.        , 0.40053908],\n",
       "        [4.38888629, 0.        ]]), array([[27.        , 77.60362694],\n",
       "        [26.59308511, 78.        ],\n",
       "        [26.        , 78.59308511],\n",
       "        [25.        , 78.60331082],\n",
       "        [24.39668918, 78.        ],\n",
       "        [24.        , 77.5933637 ],\n",
       "        [23.        , 77.59522139],\n",
       "        [22.40477861, 77.        ],\n",
       "        [22.        , 76.58709134],\n",
       "        [21.41290866, 76.        ],\n",
       "        [21.        , 75.57545544],\n",
       "        [20.42454456, 75.        ],\n",
       "        [20.4395463 , 74.        ],\n",
       "        [20.44707717, 73.        ],\n",
       "        [21.        , 72.44707717],\n",
       "        [21.44838502, 72.        ],\n",
       "        [22.        , 71.44838502],\n",
       "        [22.45486518, 71.        ],\n",
       "        [23.        , 70.45486518],\n",
       "        [23.45084122, 70.        ],\n",
       "        [24.        , 69.45084122],\n",
       "        [25.        , 69.43632033],\n",
       "        [25.42825066, 69.        ],\n",
       "        [25.43967488, 68.        ],\n",
       "        [25.45254731, 67.        ],\n",
       "        [25.454455  , 66.        ],\n",
       "        [25.44988594, 65.        ],\n",
       "        [25.45991938, 64.        ],\n",
       "        [25.46351529, 63.        ],\n",
       "        [25.46550601, 62.        ],\n",
       "        [26.        , 61.46550601],\n",
       "        [26.53449399, 62.        ],\n",
       "        [27.        , 62.45005083],\n",
       "        [27.54994917, 63.        ],\n",
       "        [27.55775439, 64.        ],\n",
       "        [27.57730323, 65.        ],\n",
       "        [27.        , 65.57730323],\n",
       "        [26.545545  , 66.        ],\n",
       "        [26.54745269, 67.        ],\n",
       "        [26.56032512, 68.        ],\n",
       "        [26.57174934, 69.        ],\n",
       "        [26.58307832, 70.        ],\n",
       "        [26.59414228, 71.        ],\n",
       "        [27.        , 71.36995501],\n",
       "        [27.63004499, 72.        ],\n",
       "        [27.62565126, 73.        ],\n",
       "        [27.61640099, 74.        ],\n",
       "        [27.60537678, 75.        ],\n",
       "        [27.60940651, 76.        ],\n",
       "        [27.60362694, 77.        ],\n",
       "        [27.        , 77.60362694]]), array([[97.37723884, 53.        ],\n",
       "        [97.37617592, 52.        ],\n",
       "        [97.        , 51.62382408],\n",
       "        [96.63221154, 52.        ],\n",
       "        [96.62656659, 53.        ],\n",
       "        [97.        , 53.36994857],\n",
       "        [97.37723884, 53.        ]]), array([[97.39568931, 61.        ],\n",
       "        [97.        , 60.60606221],\n",
       "        [96.62138628, 61.        ],\n",
       "        [97.        , 61.39164511],\n",
       "        [97.39568931, 61.        ]]), array([[98.38370079, 47.        ],\n",
       "        [98.        , 46.60613685],\n",
       "        [97.53093125, 47.        ],\n",
       "        [98.        , 47.40352188],\n",
       "        [98.38370079, 47.        ]])]"
      ]
     },
     "execution_count": 4,
     "metadata": {},
     "output_type": "execute_result"
    }
   ],
   "source": [
    "contours = measure.find_contours(invert_img, 0.7)\n",
    "contours"
   ]
  },
  {
   "cell_type": "code",
   "execution_count": 5,
   "metadata": {
    "scrolled": true
   },
   "outputs": [
    {
     "name": "stdout",
     "output_type": "stream",
     "text": [
      "(601, 2)\n",
      "(3, 2)\n",
      "(51, 2)\n",
      "(7, 2)\n",
      "(5, 2)\n",
      "(5, 2)\n"
     ]
    },
    {
     "data": {
      "image/png": "[encoded data removed]",
      "text/plain": [
       "<Figure size 432x288 with 1 Axes>"
      ]
     },
     "metadata": {},
     "output_type": "display_data"
    },
    {
     "data": {
      "text/plain": [
       "array([[0.37324314, 0.38892941, 0.39564157, ..., 0.25378667, 0.24171647,\n",
       "        0.21483098],\n",
       "       [0.37603373, 0.39396   , 0.38975569, ..., 0.28632078, 0.29860627,\n",
       "        0.3022451 ],\n",
       "       [0.37880863, 0.39392941, 1.        , ..., 1.        , 0.31351961,\n",
       "        0.33395373],\n",
       "       ...,\n",
       "       [0.31319686, 0.28966745, 1.        , ..., 1.        , 0.30377804,\n",
       "        0.3438349 ],\n",
       "       [0.21598314, 0.21427882, 0.22407137, ..., 0.29283882, 0.32224706,\n",
       "        0.33066353],\n",
       "       [0.2056102 , 0.19998431, 0.21201686, ..., 0.28861176, 0.32476196,\n",
       "        0.31162118]])"
      ]
     },
     "execution_count": 5,
     "metadata": {},
     "output_type": "execute_result"
    }
   ],
   "source": [
    "# Display the image and plot all contours found\n",
    "fig, ax = plt.subplots()\n",
    "ax.imshow(invert_img, cmap=plt.cm.gray)\n",
    "\n",
    "for n, contour in enumerate(contours):\n",
    "    ax.plot(contour[:, 1], contour[:, 0], linewidth=2)\n",
    "    print(contour.shape)\n",
    "ax.axis('image')\n",
    "ax.set_xticks([])\n",
    "ax.set_yticks([])\n",
    "plt.tight_layout()\n",
    "plt.savefig('c_out.png',bbox_inches='tight',pad_inches=0)\n",
    "plt.show()\n",
    "invert_img\n"
   ]
  },
  {
   "cell_type": "code",
   "execution_count": 6,
   "metadata": {},
   "outputs": [
    {
     "name": "stderr",
     "output_type": "stream",
     "text": [
      "C:\\Users\\58011256\\AppData\\Local\\Continuum\\anaconda3\\lib\\site-packages\\skimage\\io\\_plugins\\matplotlib_plugin.py:51: FutureWarning: Conversion of the second argument of issubdtype from `float` to `np.floating` is deprecated. In future, it will be treated as `np.float64 == np.dtype(float).type`.\n",
      "  out_of_range_float = (np.issubdtype(image.dtype, np.float) and\n",
      "C:\\Users\\58011256\\AppData\\Local\\Continuum\\anaconda3\\lib\\site-packages\\skimage\\io\\_plugins\\matplotlib_plugin.py:77: UserWarning: Float image out of standard range; displaying image with stretched contrast.\n",
      "  warn(\"Float image out of standard range; displaying \"\n",
      "C:\\Users\\58011256\\AppData\\Local\\Continuum\\anaconda3\\lib\\site-packages\\matplotlib\\axes\\_base.py:1400: MatplotlibDeprecationWarning: The 'box-forced' keyword argument is deprecated since 2.2.\n",
      "  \" since 2.2.\", cbook.mplDeprecation)\n"
     ]
    },
    {
     "data": {
      "text/plain": [
       "array([[3.73243137e-01, 3.88929412e-01, 3.95641569e-01, ...,\n",
       "        2.53786667e-01, 2.41716471e-01, 2.14830980e-01],\n",
       "       [3.76033725e-01, 3.93960000e-01, 3.89755686e-01, ...,\n",
       "        2.86320784e-01, 2.98606275e-01, 3.02245098e-01],\n",
       "       [3.78808627e-01, 3.93929412e-01, 2.55000000e+02, ...,\n",
       "        2.55000000e+02, 3.13519608e-01, 3.33953725e-01],\n",
       "       ...,\n",
       "       [3.13196863e-01, 2.89667451e-01, 2.55000000e+02, ...,\n",
       "        2.55000000e+02, 3.03778039e-01, 3.43834902e-01],\n",
       "       [2.15983137e-01, 2.14278824e-01, 2.24071373e-01, ...,\n",
       "        2.92838824e-01, 3.22247059e-01, 3.30663529e-01],\n",
       "       [2.05610196e-01, 1.99984314e-01, 2.12016863e-01, ...,\n",
       "        2.88611765e-01, 3.24761961e-01, 3.11621176e-01]])"
      ]
     },
     "execution_count": 6,
     "metadata": {},
     "output_type": "execute_result"
    },
    {
     "data": {
      "image/png": "[encoded data removed]",
      "text/plain": [
       "<Figure size 432x288 with 2 Axes>"
      ]
     },
     "metadata": {},
     "output_type": "display_data"
    }
   ],
   "source": [
    "from skimage.draw import polygon\n",
    "for n, contour in enumerate(contours):\n",
    "    pr = np.array([p[0] for p in contour])\n",
    "    pc = np.array([p[1] for p in contour])\n",
    "    row = list(map(np.uint8,contour[:,0]))\n",
    "    col = list(map(np.uint8,contour[:,1]))\n",
    "    rr, cc = polygon(pr,pc)\n",
    "    #print(pr,',',pc)\n",
    "    invert_img[rr,cc] = 255\n",
    "imshow(invert_img,cmap='gray')\n",
    "invert_img"
   ]
  },
  {
   "cell_type": "code",
   "execution_count": 7,
   "metadata": {},
   "outputs": [
    {
     "name": "stderr",
     "output_type": "stream",
     "text": [
      "C:\\Users\\58011256\\AppData\\Local\\Continuum\\anaconda3\\lib\\site-packages\\skimage\\io\\_plugins\\matplotlib_plugin.py:51: FutureWarning: Conversion of the second argument of issubdtype from `float` to `np.floating` is deprecated. In future, it will be treated as `np.float64 == np.dtype(float).type`.\n",
      "  out_of_range_float = (np.issubdtype(image.dtype, np.float) and\n",
      "C:\\Users\\58011256\\AppData\\Local\\Continuum\\anaconda3\\lib\\site-packages\\matplotlib\\axes\\_base.py:1400: MatplotlibDeprecationWarning: The 'box-forced' keyword argument is deprecated since 2.2.\n",
      "  \" since 2.2.\", cbook.mplDeprecation)\n"
     ]
    },
    {
     "data": {
      "text/plain": [
       "<matplotlib.image.AxesImage at 0x25017c0dac8>"
      ]
     },
     "execution_count": 7,
     "metadata": {},
     "output_type": "execute_result"
    },
    {
     "data": {
      "image/png": "[encoded data removed]",
      "text/plain": [
       "<Figure size 432x288 with 1 Axes>"
      ]
     },
     "metadata": {},
     "output_type": "display_data"
    }
   ],
   "source": [
    "from skimage.filters import threshold_mean\n",
    "thresh = threshold_mean(invert_img)\n",
    "binary = invert_img > thresh\n",
    "imshow(binary)"
   ]
  },
  {
   "cell_type": "code",
   "execution_count": 8,
   "metadata": {},
   "outputs": [],
   "source": [
    "from skimage.measure import label, regionprops\n",
    "label_img = label(binary)\n",
    "props = regionprops(label_img)\n"
   ]
  },
  {
   "cell_type": "code",
   "execution_count": 9,
   "metadata": {},
   "outputs": [
    {
     "name": "stderr",
     "output_type": "stream",
     "text": [
      "C:\\Users\\58011256\\AppData\\Local\\Continuum\\anaconda3\\lib\\site-packages\\skimage\\io\\_plugins\\matplotlib_plugin.py:51: FutureWarning: Conversion of the second argument of issubdtype from `float` to `np.floating` is deprecated. In future, it will be treated as `np.float64 == np.dtype(float).type`.\n",
      "  out_of_range_float = (np.issubdtype(image.dtype, np.float) and\n",
      "C:\\Users\\58011256\\AppData\\Local\\Continuum\\anaconda3\\lib\\site-packages\\skimage\\io\\_plugins\\matplotlib_plugin.py:74: UserWarning: Low image data range; displaying image with stretched contrast.\n",
      "  warn(\"Low image data range; displaying image with \"\n",
      "C:\\Users\\58011256\\AppData\\Local\\Continuum\\anaconda3\\lib\\site-packages\\matplotlib\\axes\\_base.py:1400: MatplotlibDeprecationWarning: The 'box-forced' keyword argument is deprecated since 2.2.\n",
      "  \" since 2.2.\", cbook.mplDeprecation)\n"
     ]
    },
    {
     "data": {
      "text/plain": [
       "<matplotlib.image.AxesImage at 0x25017c66128>"
      ]
     },
     "execution_count": 9,
     "metadata": {},
     "output_type": "execute_result"
    },
    {
     "data": {
      "image/png": "[encoded data removed]",
      "text/plain": [
       "<Figure size 432x288 with 2 Axes>"
      ]
     },
     "metadata": {},
     "output_type": "display_data"
    }
   ],
   "source": [
    "imshow(label_img)"
   ]
  },
  {
   "cell_type": "code",
   "execution_count": 10,
   "metadata": {},
   "outputs": [
    {
     "name": "stdout",
     "output_type": "stream",
     "text": [
      "6107\n",
      "1\n",
      "2\n",
      "1\n",
      "1\n"
     ]
    }
   ],
   "source": [
    "for region in props:\n",
    "    print(region.area)\n",
    "    #print(region.convex_area)"
   ]
  },
  {
   "cell_type": "code",
   "execution_count": 11,
   "metadata": {},
   "outputs": [
    {
     "data": {
      "text/plain": [
       "5"
      ]
     },
     "execution_count": 11,
     "metadata": {},
     "output_type": "execute_result"
    }
   ],
   "source": [
    "len(props)"
   ]
  },
  {
   "cell_type": "code",
   "execution_count": null,
   "metadata": {},
   "outputs": [],
   "source": []
  }
 ],
 "metadata": {
  "kernelspec": {
   "display_name": "Python 3",
   "language": "python",
   "name": "python3"
  },
  "language_info": {
   "codemirror_mode": {
    "name": "ipython",
    "version": 3
   },
   "file_extension": ".py",
   "mimetype": "text/x-python",
   "name": "python",
   "nbconvert_exporter": "python",
   "pygments_lexer": "ipython3",
   "version": "3.6.5"
  }
 },
 "nbformat": 4,
 "nbformat_minor": 2
}
